{
  "nbformat": 4,
  "nbformat_minor": 0,
  "metadata": {
    "colab": {
      "provenance": [],
      "authorship_tag": "ABX9TyP/JedJ8nhaAbJ2AiPNA6Uk"
    },
    "kernelspec": {
      "name": "python3",
      "display_name": "Python 3"
    },
    "language_info": {
      "name": "python"
    }
  },
  "cells": [
    {
      "cell_type": "code",
      "execution_count": 1,
      "metadata": {
        "id": "8tmea4E3iol4"
      },
      "outputs": [],
      "source": [
        "# Importing the dependencies\n",
        "import pandas as pd\n",
        "import numpy as np\n",
        "import matplotlib.pyplot as plt\n",
        "import seaborn as sns\n",
        "import pickle"
      ]
    },
    {
      "cell_type": "code",
      "source": [
        "# Importing the csv data to a Pandas DataFrame\n",
        "data = pd.read_csv(\"/content/data.csv\", sep='\\t', low_memory=False )"
      ],
      "metadata": {
        "id": "PHgsQNm0jstX"
      },
      "execution_count": 2,
      "outputs": []
    },
    {
      "cell_type": "code",
      "source": [
        "data.info()\n",
        "print(list(data.columns))"
      ],
      "metadata": {
        "colab": {
          "base_uri": "https://localhost:8080/"
        },
        "id": "QbGt0f9bjsuT",
        "outputId": "a05dc980-6bdf-46d8-a72e-fe7b84b23cb4"
      },
      "execution_count": 3,
      "outputs": [
        {
          "output_type": "stream",
          "name": "stdout",
          "text": [
            "<class 'pandas.core.frame.DataFrame'>\n",
            "RangeIndex: 39775 entries, 0 to 39774\n",
            "Columns: 172 entries, Q1A to major\n",
            "dtypes: int64(170), object(2)\n",
            "memory usage: 52.2+ MB\n",
            "['Q1A', 'Q1I', 'Q1E', 'Q2A', 'Q2I', 'Q2E', 'Q3A', 'Q3I', 'Q3E', 'Q4A', 'Q4I', 'Q4E', 'Q5A', 'Q5I', 'Q5E', 'Q6A', 'Q6I', 'Q6E', 'Q7A', 'Q7I', 'Q7E', 'Q8A', 'Q8I', 'Q8E', 'Q9A', 'Q9I', 'Q9E', 'Q10A', 'Q10I', 'Q10E', 'Q11A', 'Q11I', 'Q11E', 'Q12A', 'Q12I', 'Q12E', 'Q13A', 'Q13I', 'Q13E', 'Q14A', 'Q14I', 'Q14E', 'Q15A', 'Q15I', 'Q15E', 'Q16A', 'Q16I', 'Q16E', 'Q17A', 'Q17I', 'Q17E', 'Q18A', 'Q18I', 'Q18E', 'Q19A', 'Q19I', 'Q19E', 'Q20A', 'Q20I', 'Q20E', 'Q21A', 'Q21I', 'Q21E', 'Q22A', 'Q22I', 'Q22E', 'Q23A', 'Q23I', 'Q23E', 'Q24A', 'Q24I', 'Q24E', 'Q25A', 'Q25I', 'Q25E', 'Q26A', 'Q26I', 'Q26E', 'Q27A', 'Q27I', 'Q27E', 'Q28A', 'Q28I', 'Q28E', 'Q29A', 'Q29I', 'Q29E', 'Q30A', 'Q30I', 'Q30E', 'Q31A', 'Q31I', 'Q31E', 'Q32A', 'Q32I', 'Q32E', 'Q33A', 'Q33I', 'Q33E', 'Q34A', 'Q34I', 'Q34E', 'Q35A', 'Q35I', 'Q35E', 'Q36A', 'Q36I', 'Q36E', 'Q37A', 'Q37I', 'Q37E', 'Q38A', 'Q38I', 'Q38E', 'Q39A', 'Q39I', 'Q39E', 'Q40A', 'Q40I', 'Q40E', 'Q41A', 'Q41I', 'Q41E', 'Q42A', 'Q42I', 'Q42E', 'country', 'source', 'introelapse', 'testelapse', 'surveyelapse', 'TIPI1', 'TIPI2', 'TIPI3', 'TIPI4', 'TIPI5', 'TIPI6', 'TIPI7', 'TIPI8', 'TIPI9', 'TIPI10', 'VCL1', 'VCL2', 'VCL3', 'VCL4', 'VCL5', 'VCL6', 'VCL7', 'VCL8', 'VCL9', 'VCL10', 'VCL11', 'VCL12', 'VCL13', 'VCL14', 'VCL15', 'VCL16', 'education', 'urban', 'gender', 'engnat', 'age', 'screensize', 'uniquenetworklocation', 'hand', 'religion', 'orientation', 'race', 'voted', 'married', 'familysize', 'major']\n"
          ]
        }
      ]
    },
    {
      "cell_type": "code",
      "source": [
        "# Printing first five rows of dataset\n",
        "data.head()"
      ],
      "metadata": {
        "colab": {
          "base_uri": "https://localhost:8080/",
          "height": 279
        },
        "id": "Q9ZPmmA2kSdy",
        "outputId": "d7676dc1-92ef-4dde-88d0-ba57bff16b23"
      },
      "execution_count": 4,
      "outputs": [
        {
          "output_type": "execute_result",
          "data": {
            "text/plain": [
              "   Q1A  Q1I   Q1E  Q2A  Q2I   Q2E  Q3A  Q3I   Q3E  Q4A  ...  screensize  \\\n",
              "0    4   28  3890    4   25  2122    2   16  1944    4  ...           1   \n",
              "1    4    2  8118    1   36  2890    2   35  4777    3  ...           2   \n",
              "2    3    7  5784    1   33  4373    4   41  3242    1  ...           2   \n",
              "3    2   23  5081    3   11  6837    2   37  5521    1  ...           2   \n",
              "4    2   36  3215    2   13  7731    3    5  4156    4  ...           2   \n",
              "\n",
              "   uniquenetworklocation  hand  religion  orientation  race  voted  married  \\\n",
              "0                      1     1        12            1    10      2        1   \n",
              "1                      1     2         7            0    70      2        1   \n",
              "2                      1     1         4            3    60      1        1   \n",
              "3                      1     2         4            5    70      2        1   \n",
              "4                      2     3        10            1    10      2        1   \n",
              "\n",
              "   familysize       major  \n",
              "0           2         NaN  \n",
              "1           4         NaN  \n",
              "2           3         NaN  \n",
              "3           5     biology  \n",
              "4           4  Psychology  \n",
              "\n",
              "[5 rows x 172 columns]"
            ],
            "text/html": [
              "\n",
              "  <div id=\"df-528d98e7-0910-4839-b13d-e5f8faabddcb\">\n",
              "    <div class=\"colab-df-container\">\n",
              "      <div>\n",
              "<style scoped>\n",
              "    .dataframe tbody tr th:only-of-type {\n",
              "        vertical-align: middle;\n",
              "    }\n",
              "\n",
              "    .dataframe tbody tr th {\n",
              "        vertical-align: top;\n",
              "    }\n",
              "\n",
              "    .dataframe thead th {\n",
              "        text-align: right;\n",
              "    }\n",
              "</style>\n",
              "<table border=\"1\" class=\"dataframe\">\n",
              "  <thead>\n",
              "    <tr style=\"text-align: right;\">\n",
              "      <th></th>\n",
              "      <th>Q1A</th>\n",
              "      <th>Q1I</th>\n",
              "      <th>Q1E</th>\n",
              "      <th>Q2A</th>\n",
              "      <th>Q2I</th>\n",
              "      <th>Q2E</th>\n",
              "      <th>Q3A</th>\n",
              "      <th>Q3I</th>\n",
              "      <th>Q3E</th>\n",
              "      <th>Q4A</th>\n",
              "      <th>...</th>\n",
              "      <th>screensize</th>\n",
              "      <th>uniquenetworklocation</th>\n",
              "      <th>hand</th>\n",
              "      <th>religion</th>\n",
              "      <th>orientation</th>\n",
              "      <th>race</th>\n",
              "      <th>voted</th>\n",
              "      <th>married</th>\n",
              "      <th>familysize</th>\n",
              "      <th>major</th>\n",
              "    </tr>\n",
              "  </thead>\n",
              "  <tbody>\n",
              "    <tr>\n",
              "      <th>0</th>\n",
              "      <td>4</td>\n",
              "      <td>28</td>\n",
              "      <td>3890</td>\n",
              "      <td>4</td>\n",
              "      <td>25</td>\n",
              "      <td>2122</td>\n",
              "      <td>2</td>\n",
              "      <td>16</td>\n",
              "      <td>1944</td>\n",
              "      <td>4</td>\n",
              "      <td>...</td>\n",
              "      <td>1</td>\n",
              "      <td>1</td>\n",
              "      <td>1</td>\n",
              "      <td>12</td>\n",
              "      <td>1</td>\n",
              "      <td>10</td>\n",
              "      <td>2</td>\n",
              "      <td>1</td>\n",
              "      <td>2</td>\n",
              "      <td>NaN</td>\n",
              "    </tr>\n",
              "    <tr>\n",
              "      <th>1</th>\n",
              "      <td>4</td>\n",
              "      <td>2</td>\n",
              "      <td>8118</td>\n",
              "      <td>1</td>\n",
              "      <td>36</td>\n",
              "      <td>2890</td>\n",
              "      <td>2</td>\n",
              "      <td>35</td>\n",
              "      <td>4777</td>\n",
              "      <td>3</td>\n",
              "      <td>...</td>\n",
              "      <td>2</td>\n",
              "      <td>1</td>\n",
              "      <td>2</td>\n",
              "      <td>7</td>\n",
              "      <td>0</td>\n",
              "      <td>70</td>\n",
              "      <td>2</td>\n",
              "      <td>1</td>\n",
              "      <td>4</td>\n",
              "      <td>NaN</td>\n",
              "    </tr>\n",
              "    <tr>\n",
              "      <th>2</th>\n",
              "      <td>3</td>\n",
              "      <td>7</td>\n",
              "      <td>5784</td>\n",
              "      <td>1</td>\n",
              "      <td>33</td>\n",
              "      <td>4373</td>\n",
              "      <td>4</td>\n",
              "      <td>41</td>\n",
              "      <td>3242</td>\n",
              "      <td>1</td>\n",
              "      <td>...</td>\n",
              "      <td>2</td>\n",
              "      <td>1</td>\n",
              "      <td>1</td>\n",
              "      <td>4</td>\n",
              "      <td>3</td>\n",
              "      <td>60</td>\n",
              "      <td>1</td>\n",
              "      <td>1</td>\n",
              "      <td>3</td>\n",
              "      <td>NaN</td>\n",
              "    </tr>\n",
              "    <tr>\n",
              "      <th>3</th>\n",
              "      <td>2</td>\n",
              "      <td>23</td>\n",
              "      <td>5081</td>\n",
              "      <td>3</td>\n",
              "      <td>11</td>\n",
              "      <td>6837</td>\n",
              "      <td>2</td>\n",
              "      <td>37</td>\n",
              "      <td>5521</td>\n",
              "      <td>1</td>\n",
              "      <td>...</td>\n",
              "      <td>2</td>\n",
              "      <td>1</td>\n",
              "      <td>2</td>\n",
              "      <td>4</td>\n",
              "      <td>5</td>\n",
              "      <td>70</td>\n",
              "      <td>2</td>\n",
              "      <td>1</td>\n",
              "      <td>5</td>\n",
              "      <td>biology</td>\n",
              "    </tr>\n",
              "    <tr>\n",
              "      <th>4</th>\n",
              "      <td>2</td>\n",
              "      <td>36</td>\n",
              "      <td>3215</td>\n",
              "      <td>2</td>\n",
              "      <td>13</td>\n",
              "      <td>7731</td>\n",
              "      <td>3</td>\n",
              "      <td>5</td>\n",
              "      <td>4156</td>\n",
              "      <td>4</td>\n",
              "      <td>...</td>\n",
              "      <td>2</td>\n",
              "      <td>2</td>\n",
              "      <td>3</td>\n",
              "      <td>10</td>\n",
              "      <td>1</td>\n",
              "      <td>10</td>\n",
              "      <td>2</td>\n",
              "      <td>1</td>\n",
              "      <td>4</td>\n",
              "      <td>Psychology</td>\n",
              "    </tr>\n",
              "  </tbody>\n",
              "</table>\n",
              "<p>5 rows × 172 columns</p>\n",
              "</div>\n",
              "      <button class=\"colab-df-convert\" onclick=\"convertToInteractive('df-528d98e7-0910-4839-b13d-e5f8faabddcb')\"\n",
              "              title=\"Convert this dataframe to an interactive table.\"\n",
              "              style=\"display:none;\">\n",
              "        \n",
              "  <svg xmlns=\"http://www.w3.org/2000/svg\" height=\"24px\"viewBox=\"0 0 24 24\"\n",
              "       width=\"24px\">\n",
              "    <path d=\"M0 0h24v24H0V0z\" fill=\"none\"/>\n",
              "    <path d=\"M18.56 5.44l.94 2.06.94-2.06 2.06-.94-2.06-.94-.94-2.06-.94 2.06-2.06.94zm-11 1L8.5 8.5l.94-2.06 2.06-.94-2.06-.94L8.5 2.5l-.94 2.06-2.06.94zm10 10l.94 2.06.94-2.06 2.06-.94-2.06-.94-.94-2.06-.94 2.06-2.06.94z\"/><path d=\"M17.41 7.96l-1.37-1.37c-.4-.4-.92-.59-1.43-.59-.52 0-1.04.2-1.43.59L10.3 9.45l-7.72 7.72c-.78.78-.78 2.05 0 2.83L4 21.41c.39.39.9.59 1.41.59.51 0 1.02-.2 1.41-.59l7.78-7.78 2.81-2.81c.8-.78.8-2.07 0-2.86zM5.41 20L4 18.59l7.72-7.72 1.47 1.35L5.41 20z\"/>\n",
              "  </svg>\n",
              "      </button>\n",
              "      \n",
              "  <style>\n",
              "    .colab-df-container {\n",
              "      display:flex;\n",
              "      flex-wrap:wrap;\n",
              "      gap: 12px;\n",
              "    }\n",
              "\n",
              "    .colab-df-convert {\n",
              "      background-color: #E8F0FE;\n",
              "      border: none;\n",
              "      border-radius: 50%;\n",
              "      cursor: pointer;\n",
              "      display: none;\n",
              "      fill: #1967D2;\n",
              "      height: 32px;\n",
              "      padding: 0 0 0 0;\n",
              "      width: 32px;\n",
              "    }\n",
              "\n",
              "    .colab-df-convert:hover {\n",
              "      background-color: #E2EBFA;\n",
              "      box-shadow: 0px 1px 2px rgba(60, 64, 67, 0.3), 0px 1px 3px 1px rgba(60, 64, 67, 0.15);\n",
              "      fill: #174EA6;\n",
              "    }\n",
              "\n",
              "    [theme=dark] .colab-df-convert {\n",
              "      background-color: #3B4455;\n",
              "      fill: #D2E3FC;\n",
              "    }\n",
              "\n",
              "    [theme=dark] .colab-df-convert:hover {\n",
              "      background-color: #434B5C;\n",
              "      box-shadow: 0px 1px 3px 1px rgba(0, 0, 0, 0.15);\n",
              "      filter: drop-shadow(0px 1px 2px rgba(0, 0, 0, 0.3));\n",
              "      fill: #FFFFFF;\n",
              "    }\n",
              "  </style>\n",
              "\n",
              "      <script>\n",
              "        const buttonEl =\n",
              "          document.querySelector('#df-528d98e7-0910-4839-b13d-e5f8faabddcb button.colab-df-convert');\n",
              "        buttonEl.style.display =\n",
              "          google.colab.kernel.accessAllowed ? 'block' : 'none';\n",
              "\n",
              "        async function convertToInteractive(key) {\n",
              "          const element = document.querySelector('#df-528d98e7-0910-4839-b13d-e5f8faabddcb');\n",
              "          const dataTable =\n",
              "            await google.colab.kernel.invokeFunction('convertToInteractive',\n",
              "                                                     [key], {});\n",
              "          if (!dataTable) return;\n",
              "\n",
              "          const docLinkHtml = 'Like what you see? Visit the ' +\n",
              "            '<a target=\"_blank\" href=https://colab.research.google.com/notebooks/data_table.ipynb>data table notebook</a>'\n",
              "            + ' to learn more about interactive tables.';\n",
              "          element.innerHTML = '';\n",
              "          dataTable['output_type'] = 'display_data';\n",
              "          await google.colab.output.renderOutput(dataTable, element);\n",
              "          const docLink = document.createElement('div');\n",
              "          docLink.innerHTML = docLinkHtml;\n",
              "          element.appendChild(docLink);\n",
              "        }\n",
              "      </script>\n",
              "    </div>\n",
              "  </div>\n",
              "  "
            ]
          },
          "metadata": {},
          "execution_count": 4
        }
      ]
    },
    {
      "cell_type": "code",
      "source": [
        "data.info()"
      ],
      "metadata": {
        "colab": {
          "base_uri": "https://localhost:8080/"
        },
        "id": "99UZ14Dskdml",
        "outputId": "e6cc1167-321b-4f73-8868-904c0310e0a7"
      },
      "execution_count": 5,
      "outputs": [
        {
          "output_type": "stream",
          "name": "stdout",
          "text": [
            "<class 'pandas.core.frame.DataFrame'>\n",
            "RangeIndex: 39775 entries, 0 to 39774\n",
            "Columns: 172 entries, Q1A to major\n",
            "dtypes: int64(170), object(2)\n",
            "memory usage: 52.2+ MB\n"
          ]
        }
      ]
    },
    {
      "cell_type": "code",
      "source": [
        "# Checking for null values\n",
        "data.isnull().sum()"
      ],
      "metadata": {
        "colab": {
          "base_uri": "https://localhost:8080/"
        },
        "id": "AQ0meQ4Plecu",
        "outputId": "3b8707f7-5027-42ff-85f8-5b5518d5d33f"
      },
      "execution_count": 6,
      "outputs": [
        {
          "output_type": "execute_result",
          "data": {
            "text/plain": [
              "Q1A               0\n",
              "Q1I               0\n",
              "Q1E               0\n",
              "Q2A               0\n",
              "Q2I               0\n",
              "              ...  \n",
              "race              0\n",
              "voted             0\n",
              "married           0\n",
              "familysize        0\n",
              "major         11403\n",
              "Length: 172, dtype: int64"
            ]
          },
          "metadata": {},
          "execution_count": 6
        }
      ]
    },
    {
      "cell_type": "code",
      "source": [
        "type(data)"
      ],
      "metadata": {
        "colab": {
          "base_uri": "https://localhost:8080/"
        },
        "id": "5rqEzHPlloN2",
        "outputId": "e7e95df9-4ed3-400b-fb57-b4cfb7e417c8"
      },
      "execution_count": 7,
      "outputs": [
        {
          "output_type": "execute_result",
          "data": {
            "text/plain": [
              "pandas.core.frame.DataFrame"
            ]
          },
          "metadata": {},
          "execution_count": 7
        }
      ]
    },
    {
      "cell_type": "markdown",
      "source": [
        "changing the response values from range 1-4 to 0-3 for the Dass 42 scales"
      ],
      "metadata": {
        "id": "gXw6v7TBmn52"
      }
    },
    {
      "cell_type": "code",
      "source": [
        "#data[\"Q1A\"] = data[\"Q1A\"].replace([4, 3, 2, 1],[3, 2, 1, 0])\n",
        "for i in range(0,124):\n",
        "    data.iloc[:, i] = data.iloc[:, i].replace([4, 3, 2, 1],[3, 2, 1, 0])\n",
        "    i = i+3\n"
      ],
      "metadata": {
        "id": "Z5NbyDG2mi12"
      },
      "execution_count": 8,
      "outputs": []
    },
    {
      "cell_type": "code",
      "source": [
        "# Printing first five rows of dataset\n",
        "data.head()"
      ],
      "metadata": {
        "colab": {
          "base_uri": "https://localhost:8080/",
          "height": 279
        },
        "id": "6NxKwbNBm6pP",
        "outputId": "65d7eac5-7130-4049-92e6-d2199c72a582"
      },
      "execution_count": 9,
      "outputs": [
        {
          "output_type": "execute_result",
          "data": {
            "text/plain": [
              "   Q1A  Q1I   Q1E  Q2A  Q2I   Q2E  Q3A  Q3I   Q3E  Q4A  ...  screensize  \\\n",
              "0    3   28  3890    3   25  2122    1   16  1944    3  ...           1   \n",
              "1    3    1  8118    0   36  2890    1   35  4777    2  ...           2   \n",
              "2    2    7  5784    0   33  4373    3   41  3242    0  ...           2   \n",
              "3    1   23  5081    2   11  6837    1   37  5521    0  ...           2   \n",
              "4    1   36  3215    1   13  7731    2    5  4156    3  ...           2   \n",
              "\n",
              "   uniquenetworklocation  hand  religion  orientation  race  voted  married  \\\n",
              "0                      1     1        12            1    10      2        1   \n",
              "1                      1     2         7            0    70      2        1   \n",
              "2                      1     1         4            3    60      1        1   \n",
              "3                      1     2         4            5    70      2        1   \n",
              "4                      2     3        10            1    10      2        1   \n",
              "\n",
              "   familysize       major  \n",
              "0           2         NaN  \n",
              "1           4         NaN  \n",
              "2           3         NaN  \n",
              "3           5     biology  \n",
              "4           4  Psychology  \n",
              "\n",
              "[5 rows x 172 columns]"
            ],
            "text/html": [
              "\n",
              "  <div id=\"df-45b02459-9264-45a6-91e3-2f92f4f1eb65\">\n",
              "    <div class=\"colab-df-container\">\n",
              "      <div>\n",
              "<style scoped>\n",
              "    .dataframe tbody tr th:only-of-type {\n",
              "        vertical-align: middle;\n",
              "    }\n",
              "\n",
              "    .dataframe tbody tr th {\n",
              "        vertical-align: top;\n",
              "    }\n",
              "\n",
              "    .dataframe thead th {\n",
              "        text-align: right;\n",
              "    }\n",
              "</style>\n",
              "<table border=\"1\" class=\"dataframe\">\n",
              "  <thead>\n",
              "    <tr style=\"text-align: right;\">\n",
              "      <th></th>\n",
              "      <th>Q1A</th>\n",
              "      <th>Q1I</th>\n",
              "      <th>Q1E</th>\n",
              "      <th>Q2A</th>\n",
              "      <th>Q2I</th>\n",
              "      <th>Q2E</th>\n",
              "      <th>Q3A</th>\n",
              "      <th>Q3I</th>\n",
              "      <th>Q3E</th>\n",
              "      <th>Q4A</th>\n",
              "      <th>...</th>\n",
              "      <th>screensize</th>\n",
              "      <th>uniquenetworklocation</th>\n",
              "      <th>hand</th>\n",
              "      <th>religion</th>\n",
              "      <th>orientation</th>\n",
              "      <th>race</th>\n",
              "      <th>voted</th>\n",
              "      <th>married</th>\n",
              "      <th>familysize</th>\n",
              "      <th>major</th>\n",
              "    </tr>\n",
              "  </thead>\n",
              "  <tbody>\n",
              "    <tr>\n",
              "      <th>0</th>\n",
              "      <td>3</td>\n",
              "      <td>28</td>\n",
              "      <td>3890</td>\n",
              "      <td>3</td>\n",
              "      <td>25</td>\n",
              "      <td>2122</td>\n",
              "      <td>1</td>\n",
              "      <td>16</td>\n",
              "      <td>1944</td>\n",
              "      <td>3</td>\n",
              "      <td>...</td>\n",
              "      <td>1</td>\n",
              "      <td>1</td>\n",
              "      <td>1</td>\n",
              "      <td>12</td>\n",
              "      <td>1</td>\n",
              "      <td>10</td>\n",
              "      <td>2</td>\n",
              "      <td>1</td>\n",
              "      <td>2</td>\n",
              "      <td>NaN</td>\n",
              "    </tr>\n",
              "    <tr>\n",
              "      <th>1</th>\n",
              "      <td>3</td>\n",
              "      <td>1</td>\n",
              "      <td>8118</td>\n",
              "      <td>0</td>\n",
              "      <td>36</td>\n",
              "      <td>2890</td>\n",
              "      <td>1</td>\n",
              "      <td>35</td>\n",
              "      <td>4777</td>\n",
              "      <td>2</td>\n",
              "      <td>...</td>\n",
              "      <td>2</td>\n",
              "      <td>1</td>\n",
              "      <td>2</td>\n",
              "      <td>7</td>\n",
              "      <td>0</td>\n",
              "      <td>70</td>\n",
              "      <td>2</td>\n",
              "      <td>1</td>\n",
              "      <td>4</td>\n",
              "      <td>NaN</td>\n",
              "    </tr>\n",
              "    <tr>\n",
              "      <th>2</th>\n",
              "      <td>2</td>\n",
              "      <td>7</td>\n",
              "      <td>5784</td>\n",
              "      <td>0</td>\n",
              "      <td>33</td>\n",
              "      <td>4373</td>\n",
              "      <td>3</td>\n",
              "      <td>41</td>\n",
              "      <td>3242</td>\n",
              "      <td>0</td>\n",
              "      <td>...</td>\n",
              "      <td>2</td>\n",
              "      <td>1</td>\n",
              "      <td>1</td>\n",
              "      <td>4</td>\n",
              "      <td>3</td>\n",
              "      <td>60</td>\n",
              "      <td>1</td>\n",
              "      <td>1</td>\n",
              "      <td>3</td>\n",
              "      <td>NaN</td>\n",
              "    </tr>\n",
              "    <tr>\n",
              "      <th>3</th>\n",
              "      <td>1</td>\n",
              "      <td>23</td>\n",
              "      <td>5081</td>\n",
              "      <td>2</td>\n",
              "      <td>11</td>\n",
              "      <td>6837</td>\n",
              "      <td>1</td>\n",
              "      <td>37</td>\n",
              "      <td>5521</td>\n",
              "      <td>0</td>\n",
              "      <td>...</td>\n",
              "      <td>2</td>\n",
              "      <td>1</td>\n",
              "      <td>2</td>\n",
              "      <td>4</td>\n",
              "      <td>5</td>\n",
              "      <td>70</td>\n",
              "      <td>2</td>\n",
              "      <td>1</td>\n",
              "      <td>5</td>\n",
              "      <td>biology</td>\n",
              "    </tr>\n",
              "    <tr>\n",
              "      <th>4</th>\n",
              "      <td>1</td>\n",
              "      <td>36</td>\n",
              "      <td>3215</td>\n",
              "      <td>1</td>\n",
              "      <td>13</td>\n",
              "      <td>7731</td>\n",
              "      <td>2</td>\n",
              "      <td>5</td>\n",
              "      <td>4156</td>\n",
              "      <td>3</td>\n",
              "      <td>...</td>\n",
              "      <td>2</td>\n",
              "      <td>2</td>\n",
              "      <td>3</td>\n",
              "      <td>10</td>\n",
              "      <td>1</td>\n",
              "      <td>10</td>\n",
              "      <td>2</td>\n",
              "      <td>1</td>\n",
              "      <td>4</td>\n",
              "      <td>Psychology</td>\n",
              "    </tr>\n",
              "  </tbody>\n",
              "</table>\n",
              "<p>5 rows × 172 columns</p>\n",
              "</div>\n",
              "      <button class=\"colab-df-convert\" onclick=\"convertToInteractive('df-45b02459-9264-45a6-91e3-2f92f4f1eb65')\"\n",
              "              title=\"Convert this dataframe to an interactive table.\"\n",
              "              style=\"display:none;\">\n",
              "        \n",
              "  <svg xmlns=\"http://www.w3.org/2000/svg\" height=\"24px\"viewBox=\"0 0 24 24\"\n",
              "       width=\"24px\">\n",
              "    <path d=\"M0 0h24v24H0V0z\" fill=\"none\"/>\n",
              "    <path d=\"M18.56 5.44l.94 2.06.94-2.06 2.06-.94-2.06-.94-.94-2.06-.94 2.06-2.06.94zm-11 1L8.5 8.5l.94-2.06 2.06-.94-2.06-.94L8.5 2.5l-.94 2.06-2.06.94zm10 10l.94 2.06.94-2.06 2.06-.94-2.06-.94-.94-2.06-.94 2.06-2.06.94z\"/><path d=\"M17.41 7.96l-1.37-1.37c-.4-.4-.92-.59-1.43-.59-.52 0-1.04.2-1.43.59L10.3 9.45l-7.72 7.72c-.78.78-.78 2.05 0 2.83L4 21.41c.39.39.9.59 1.41.59.51 0 1.02-.2 1.41-.59l7.78-7.78 2.81-2.81c.8-.78.8-2.07 0-2.86zM5.41 20L4 18.59l7.72-7.72 1.47 1.35L5.41 20z\"/>\n",
              "  </svg>\n",
              "      </button>\n",
              "      \n",
              "  <style>\n",
              "    .colab-df-container {\n",
              "      display:flex;\n",
              "      flex-wrap:wrap;\n",
              "      gap: 12px;\n",
              "    }\n",
              "\n",
              "    .colab-df-convert {\n",
              "      background-color: #E8F0FE;\n",
              "      border: none;\n",
              "      border-radius: 50%;\n",
              "      cursor: pointer;\n",
              "      display: none;\n",
              "      fill: #1967D2;\n",
              "      height: 32px;\n",
              "      padding: 0 0 0 0;\n",
              "      width: 32px;\n",
              "    }\n",
              "\n",
              "    .colab-df-convert:hover {\n",
              "      background-color: #E2EBFA;\n",
              "      box-shadow: 0px 1px 2px rgba(60, 64, 67, 0.3), 0px 1px 3px 1px rgba(60, 64, 67, 0.15);\n",
              "      fill: #174EA6;\n",
              "    }\n",
              "\n",
              "    [theme=dark] .colab-df-convert {\n",
              "      background-color: #3B4455;\n",
              "      fill: #D2E3FC;\n",
              "    }\n",
              "\n",
              "    [theme=dark] .colab-df-convert:hover {\n",
              "      background-color: #434B5C;\n",
              "      box-shadow: 0px 1px 3px 1px rgba(0, 0, 0, 0.15);\n",
              "      filter: drop-shadow(0px 1px 2px rgba(0, 0, 0, 0.3));\n",
              "      fill: #FFFFFF;\n",
              "    }\n",
              "  </style>\n",
              "\n",
              "      <script>\n",
              "        const buttonEl =\n",
              "          document.querySelector('#df-45b02459-9264-45a6-91e3-2f92f4f1eb65 button.colab-df-convert');\n",
              "        buttonEl.style.display =\n",
              "          google.colab.kernel.accessAllowed ? 'block' : 'none';\n",
              "\n",
              "        async function convertToInteractive(key) {\n",
              "          const element = document.querySelector('#df-45b02459-9264-45a6-91e3-2f92f4f1eb65');\n",
              "          const dataTable =\n",
              "            await google.colab.kernel.invokeFunction('convertToInteractive',\n",
              "                                                     [key], {});\n",
              "          if (!dataTable) return;\n",
              "\n",
              "          const docLinkHtml = 'Like what you see? Visit the ' +\n",
              "            '<a target=\"_blank\" href=https://colab.research.google.com/notebooks/data_table.ipynb>data table notebook</a>'\n",
              "            + ' to learn more about interactive tables.';\n",
              "          element.innerHTML = '';\n",
              "          dataTable['output_type'] = 'display_data';\n",
              "          await google.colab.output.renderOutput(dataTable, element);\n",
              "          const docLink = document.createElement('div');\n",
              "          docLink.innerHTML = docLinkHtml;\n",
              "          element.appendChild(docLink);\n",
              "        }\n",
              "      </script>\n",
              "    </div>\n",
              "  </div>\n",
              "  "
            ]
          },
          "metadata": {},
          "execution_count": 9
        }
      ]
    },
    {
      "cell_type": "code",
      "source": [
        "data['country'].unique()"
      ],
      "metadata": {
        "colab": {
          "base_uri": "https://localhost:8080/"
        },
        "id": "U2y8uPj3m7zf",
        "outputId": "dd8a4702-b64e-4a25-99cf-6b84041c966a"
      },
      "execution_count": 10,
      "outputs": [
        {
          "output_type": "execute_result",
          "data": {
            "text/plain": [
              "array(['IN', 'US', 'PL', 'MY', 'MX', 'GB', 'DE', 'EE', 'CA', 'EC', 'AU',\n",
              "       'FI', 'ID', 'AE', 'NONE', 'ES', 'NI', 'DO', 'TR', 'NO', 'GR', 'LK',\n",
              "       'BR', 'AR', 'KH', 'IT', 'MK', 'PT', 'BA', 'RU', 'HU', 'KR', 'IE',\n",
              "       'RS', 'CZ', 'PH', 'RO', 'FR', 'SG', 'AT', 'UA', 'KW', 'CO', 'GE',\n",
              "       'SE', 'HK', 'NZ', 'ZA', 'NL', 'DK', 'JM', 'LB', 'CL', 'AW', 'IL',\n",
              "       'GT', 'PE', 'PK', 'NP', 'HR', 'CR', 'VE', 'BG', 'GH', 'MA', 'PR',\n",
              "       'SI', 'LV', 'AL', 'VN', 'GU', 'BD', 'TH', 'NG', 'FO', 'UY', 'EG',\n",
              "       'BE', 'SA', 'SV', 'CH', 'PY', 'SK', 'SY', 'TN', 'TT', 'SR', 'KE',\n",
              "       'BY', 'PA', 'CY', 'BW', 'MZ', 'BB', 'GG', 'CW', 'IS', 'IR', 'BN',\n",
              "       'MV', 'OM', 'DZ', 'JP', 'MU', nan, 'IQ', 'BO', 'MD', 'CN', 'LT',\n",
              "       'BZ', 'BH', 'ME', 'QA', 'TW', 'PS', 'JO', 'SD', 'KY', 'AZ', 'AO',\n",
              "       'BS', 'GY', 'MO', 'TZ', 'IM', 'AF', 'AM', 'UZ', 'LU', 'ET', 'JE',\n",
              "       'VU', 'TJ', 'KZ', 'XK', 'HN', 'ZW', 'LA', 'MT', 'SN', 'MN', 'TG',\n",
              "       'SC', 'RE', 'VC'], dtype=object)"
            ]
          },
          "metadata": {},
          "execution_count": 10
        }
      ]
    },
    {
      "cell_type": "code",
      "source": [
        "data = data.drop(['country','major'],axis=1)\n",
        "\n",
        "print(list(data.columns))"
      ],
      "metadata": {
        "colab": {
          "base_uri": "https://localhost:8080/"
        },
        "id": "C0Tt2FiKnBUW",
        "outputId": "3533f700-957a-4d52-d479-84434e1bf15f"
      },
      "execution_count": 11,
      "outputs": [
        {
          "output_type": "stream",
          "name": "stdout",
          "text": [
            "['Q1A', 'Q1I', 'Q1E', 'Q2A', 'Q2I', 'Q2E', 'Q3A', 'Q3I', 'Q3E', 'Q4A', 'Q4I', 'Q4E', 'Q5A', 'Q5I', 'Q5E', 'Q6A', 'Q6I', 'Q6E', 'Q7A', 'Q7I', 'Q7E', 'Q8A', 'Q8I', 'Q8E', 'Q9A', 'Q9I', 'Q9E', 'Q10A', 'Q10I', 'Q10E', 'Q11A', 'Q11I', 'Q11E', 'Q12A', 'Q12I', 'Q12E', 'Q13A', 'Q13I', 'Q13E', 'Q14A', 'Q14I', 'Q14E', 'Q15A', 'Q15I', 'Q15E', 'Q16A', 'Q16I', 'Q16E', 'Q17A', 'Q17I', 'Q17E', 'Q18A', 'Q18I', 'Q18E', 'Q19A', 'Q19I', 'Q19E', 'Q20A', 'Q20I', 'Q20E', 'Q21A', 'Q21I', 'Q21E', 'Q22A', 'Q22I', 'Q22E', 'Q23A', 'Q23I', 'Q23E', 'Q24A', 'Q24I', 'Q24E', 'Q25A', 'Q25I', 'Q25E', 'Q26A', 'Q26I', 'Q26E', 'Q27A', 'Q27I', 'Q27E', 'Q28A', 'Q28I', 'Q28E', 'Q29A', 'Q29I', 'Q29E', 'Q30A', 'Q30I', 'Q30E', 'Q31A', 'Q31I', 'Q31E', 'Q32A', 'Q32I', 'Q32E', 'Q33A', 'Q33I', 'Q33E', 'Q34A', 'Q34I', 'Q34E', 'Q35A', 'Q35I', 'Q35E', 'Q36A', 'Q36I', 'Q36E', 'Q37A', 'Q37I', 'Q37E', 'Q38A', 'Q38I', 'Q38E', 'Q39A', 'Q39I', 'Q39E', 'Q40A', 'Q40I', 'Q40E', 'Q41A', 'Q41I', 'Q41E', 'Q42A', 'Q42I', 'Q42E', 'source', 'introelapse', 'testelapse', 'surveyelapse', 'TIPI1', 'TIPI2', 'TIPI3', 'TIPI4', 'TIPI5', 'TIPI6', 'TIPI7', 'TIPI8', 'TIPI9', 'TIPI10', 'VCL1', 'VCL2', 'VCL3', 'VCL4', 'VCL5', 'VCL6', 'VCL7', 'VCL8', 'VCL9', 'VCL10', 'VCL11', 'VCL12', 'VCL13', 'VCL14', 'VCL15', 'VCL16', 'education', 'urban', 'gender', 'engnat', 'age', 'screensize', 'uniquenetworklocation', 'hand', 'religion', 'orientation', 'race', 'voted', 'married', 'familysize']\n"
          ]
        }
      ]
    },
    {
      "cell_type": "markdown",
      "source": [],
      "metadata": {
        "id": "re08b1L3n12_"
      }
    },
    {
      "cell_type": "markdown",
      "source": [
        "If a person has taken more than 25s to answer a question, that response is not reliable and so we will not consider it"
      ],
      "metadata": {
        "id": "mdGzXS8on14M"
      }
    },
    {
      "cell_type": "code",
      "source": [
        "for i in range(0,124):\n",
        "    for j in range(0, 39775):\n",
        "        if(data.iloc[j, i+2] > 25000):\n",
        "            data.iloc[j, i] = 0\n",
        "        j = j+1\n",
        "    i = i+3"
      ],
      "metadata": {
        "id": "p1VfziPDnGYO"
      },
      "execution_count": 12,
      "outputs": []
    },
    {
      "cell_type": "code",
      "source": [
        "print(data[\"Q1A\"])"
      ],
      "metadata": {
        "colab": {
          "base_uri": "https://localhost:8080/"
        },
        "id": "K6YGhfBcoA-m",
        "outputId": "e53ebff5-dd27-4728-ff50-35dc3fdc7798"
      },
      "execution_count": 13,
      "outputs": [
        {
          "output_type": "stream",
          "name": "stdout",
          "text": [
            "0        3\n",
            "1        3\n",
            "2        2\n",
            "3        1\n",
            "4        1\n",
            "        ..\n",
            "39770    1\n",
            "39771    2\n",
            "39772    0\n",
            "39773    2\n",
            "39774    0\n",
            "Name: Q1A, Length: 39775, dtype: int64\n"
          ]
        }
      ]
    },
    {
      "cell_type": "markdown",
      "source": [
        "creating outcome columns for Stress, Anxiety and Depression"
      ],
      "metadata": {
        "id": "x6kpD9xeo1FH"
      }
    },
    {
      "cell_type": "code",
      "source": [
        "#stress_scale = []\n",
        "#def Stress_scale(stress):\n",
        "#    if stress <=14:\n",
        "#        stress_scale.append(\"Normal S\")\n",
        "#    elif stress >14 and stress <=18:\n",
        "#        stress_scale.append(\"Mild S\")\n",
        "#    elif stress >18 and stress <= 25:\n",
        "#        stress_scale.append(\"Moderate S\")\n",
        "#    elif stress > 25 and stress <= 33:\n",
        "#        stress_scale.append(\"Severe S\")\n",
        "#    else:\n",
        "#        stress_scale.append(\"Extremely S\")\n",
        "#    return stress_scale\n"
      ],
      "metadata": {
        "id": "IruCQaoxou3d"
      },
      "execution_count": 14,
      "outputs": []
    },
    {
      "cell_type": "code",
      "source": [
        "stress = data[\"Q1A\"] + data[\"Q6A\"] + data[\"Q8A\"] + data[\"Q11A\"] + data[\"Q12A\"] + data[\"Q14A\"] + data[\"Q18A\"] + data[\"Q22A\"] +data[\"Q27A\"] + data[\"Q29A\"] + data[\"Q32A\"] + data[\"Q33A\"] + data[\"Q35A\"] + data[\"Q39A\"]\n",
        "#print(stress)\n",
        "data[\"Stress\"] = stress \n",
        "data[\"Stress_R\"] = stress #column to be used for regression approach\n",
        "data[\"Stress\"] = data[\"Stress\"].apply(lambda stress: 'Normal S' if stress <=14 else ('Mild S' if stress >14 and stress <=18 else ('Moderate S' if stress >18 and stress <= 25 else('Severe S' if stress > 25 and stress <= 33 else 'Extremely S')))) #column used for classification approach\n",
        "#data[\"Stress_scale\"] = data[\"Stress\"].apply(Stress_scale)\n",
        "#data[\"Stress_scale\"] = Stress_scale(data[[\"Stress\"]])\n",
        "\n",
        "anxiety = data[\"Q2A\"] + data[\"Q4A\"] + data[\"Q7A\"] + data[\"Q9A\"] + data[\"Q15A\"] + data[\"Q19A\"] + data[\"Q20A\"] + data[\"Q23A\"] +data[\"Q25A\"] + data[\"Q28A\"] + data[\"Q30A\"] + data[\"Q36A\"] + data[\"Q40A\"] + data[\"Q41A\"]\n",
        "data[\"Anxiety\"] = anxiety\n",
        "data[\"Anxiety_R\"] = anxiety\n",
        "data[\"Anxiety\"] = data[\"Anxiety\"].apply(lambda anxiety: 'Normal A' if anxiety <=7 else ('Mild A' if anxiety >7 and anxiety <=9 else ('Moderate A' if anxiety >9 and anxiety <= 14 else('Severe A' if anxiety > 14 and anxiety <= 19 else 'Extremely A'))))\n",
        "\n",
        "\n",
        "depression = data[\"Q3A\"] + data[\"Q5A\"] + data[\"Q10A\"] + data[\"Q13A\"] + data[\"Q16A\"] + data[\"Q17A\"] + data[\"Q21A\"] + data[\"Q24A\"] + data[\"Q26A\"] + data[\"Q31A\"] + data[\"Q34A\"] + data[\"Q37A\"] + data[\"Q38A\"] + data[\"Q42A\"] \n",
        "data[\"Depression\"] = depression\n",
        "data[\"Depression_R\"] = depression\n",
        "data[\"Depression\"] = data[\"Depression\"].apply(lambda depression: 'Normal D' if depression <=9 else ('Mild D' if depression >9 and depression <=13 else ('Moderate D' if depression >9 and depression <= 14 else('Severe D' if depression > 14 and depression <= 19 else 'Extremely D'))))\n",
        "print(data[\"Anxiety\"])\n",
        "#anxiety = data"
      ],
      "metadata": {
        "colab": {
          "base_uri": "https://localhost:8080/"
        },
        "id": "0IloEQd4o7Gf",
        "outputId": "ce14c59e-18de-4b42-ab4f-57c5e621219e"
      },
      "execution_count": 15,
      "outputs": [
        {
          "output_type": "stream",
          "name": "stdout",
          "text": [
            "0        Extremely A\n",
            "1           Severe A\n",
            "2         Moderate A\n",
            "3           Severe A\n",
            "4        Extremely A\n",
            "            ...     \n",
            "39770     Moderate A\n",
            "39771    Extremely A\n",
            "39772       Normal A\n",
            "39773     Moderate A\n",
            "39774     Moderate A\n",
            "Name: Anxiety, Length: 39775, dtype: object\n"
          ]
        }
      ]
    },
    {
      "cell_type": "code",
      "source": [
        "import matplotlib.pyplot as plt\n",
        "\n",
        "#plt.scatter(data['Stress_R'], data['age'])\n",
        "#plt.plot(data['Depression_R'])\n",
        "#plt.plot(data['Anxiety_R'])"
      ],
      "metadata": {
        "id": "nl4nusHVpEuG"
      },
      "execution_count": 16,
      "outputs": []
    },
    {
      "cell_type": "code",
      "source": [
        "teen_data = (data['age'] > 12) & (data['age'] <= 19)\n",
        "teen_data = data.loc[teen_data]\n",
        "teen_data"
      ],
      "metadata": {
        "colab": {
          "base_uri": "https://localhost:8080/",
          "height": 467
        },
        "id": "ksEeWhqCpp5O",
        "outputId": "2269a423-0943-4055-dea1-ba63a624987d"
      },
      "execution_count": 17,
      "outputs": [
        {
          "output_type": "execute_result",
          "data": {
            "text/plain": [
              "       Q1A  Q1I    Q1E  Q2A  Q2I   Q2E  Q3A  Q3I   Q3E  Q4A  ...  race  voted  \\\n",
              "0        3   28   3890    3   25  2122    1   16  1944    3  ...    10      2   \n",
              "1        3    1   8118    0   36  2890    1   35  4777    2  ...    70      2   \n",
              "2        2    7   5784    0   33  4373    3   41  3242    0  ...    60      1   \n",
              "3        1   23   5081    2   11  6837    1   37  5521    0  ...    70      2   \n",
              "4        1   36   3215    1   13  7731    2    5  4156    3  ...    10      2   \n",
              "...    ...  ...    ...  ...  ...   ...  ...  ...   ...  ...  ...   ...    ...   \n",
              "39759    1   41  15596    0   24  1818    1   25  1921    0  ...    10      2   \n",
              "39766    1   39   2305    0   33  2188    0    7  1924    1  ...    70      1   \n",
              "39767    3    0  14275    3    3  4721    3   33  3934    2  ...    20      2   \n",
              "39769    0   32  28897    3    3  3025    1   30  3248    1  ...    70      2   \n",
              "39770    1   31   3287    0    5  2216    2   29  3895    1  ...    60      2   \n",
              "\n",
              "       married  familysize       Stress  Stress_R      Anxiety  Anxiety_R  \\\n",
              "0            1           2  Extremely S        40  Extremely A         34   \n",
              "1            1           4     Severe S        27     Severe A         17   \n",
              "2            1           3       Mild S        15   Moderate A         12   \n",
              "3            1           5       Mild S        16     Severe A         17   \n",
              "4            1           4     Severe S        29  Extremely A         40   \n",
              "...        ...         ...          ...       ...          ...        ...   \n",
              "39759        1           4       Mild S        18   Moderate A         10   \n",
              "39766        1           2       Mild S        15     Severe A         19   \n",
              "39767        1           2     Severe S        32  Extremely A         25   \n",
              "39769        1           3     Severe S        27  Extremely A         21   \n",
              "39770        1           2       Mild S        15   Moderate A         12   \n",
              "\n",
              "        Depression  Depression_R  \n",
              "0      Extremely D            27  \n",
              "1      Extremely D            24  \n",
              "2      Extremely D            39  \n",
              "3         Severe D            16  \n",
              "4      Extremely D            32  \n",
              "...            ...           ...  \n",
              "39759  Extremely D            22  \n",
              "39766     Normal D             7  \n",
              "39767  Extremely D            36  \n",
              "39769     Severe D            15  \n",
              "39770  Extremely D            36  \n",
              "\n",
              "[13825 rows x 176 columns]"
            ],
            "text/html": [
              "\n",
              "  <div id=\"df-ff1e4af2-e79a-49e0-b152-78c05e8c90ca\">\n",
              "    <div class=\"colab-df-container\">\n",
              "      <div>\n",
              "<style scoped>\n",
              "    .dataframe tbody tr th:only-of-type {\n",
              "        vertical-align: middle;\n",
              "    }\n",
              "\n",
              "    .dataframe tbody tr th {\n",
              "        vertical-align: top;\n",
              "    }\n",
              "\n",
              "    .dataframe thead th {\n",
              "        text-align: right;\n",
              "    }\n",
              "</style>\n",
              "<table border=\"1\" class=\"dataframe\">\n",
              "  <thead>\n",
              "    <tr style=\"text-align: right;\">\n",
              "      <th></th>\n",
              "      <th>Q1A</th>\n",
              "      <th>Q1I</th>\n",
              "      <th>Q1E</th>\n",
              "      <th>Q2A</th>\n",
              "      <th>Q2I</th>\n",
              "      <th>Q2E</th>\n",
              "      <th>Q3A</th>\n",
              "      <th>Q3I</th>\n",
              "      <th>Q3E</th>\n",
              "      <th>Q4A</th>\n",
              "      <th>...</th>\n",
              "      <th>race</th>\n",
              "      <th>voted</th>\n",
              "      <th>married</th>\n",
              "      <th>familysize</th>\n",
              "      <th>Stress</th>\n",
              "      <th>Stress_R</th>\n",
              "      <th>Anxiety</th>\n",
              "      <th>Anxiety_R</th>\n",
              "      <th>Depression</th>\n",
              "      <th>Depression_R</th>\n",
              "    </tr>\n",
              "  </thead>\n",
              "  <tbody>\n",
              "    <tr>\n",
              "      <th>0</th>\n",
              "      <td>3</td>\n",
              "      <td>28</td>\n",
              "      <td>3890</td>\n",
              "      <td>3</td>\n",
              "      <td>25</td>\n",
              "      <td>2122</td>\n",
              "      <td>1</td>\n",
              "      <td>16</td>\n",
              "      <td>1944</td>\n",
              "      <td>3</td>\n",
              "      <td>...</td>\n",
              "      <td>10</td>\n",
              "      <td>2</td>\n",
              "      <td>1</td>\n",
              "      <td>2</td>\n",
              "      <td>Extremely S</td>\n",
              "      <td>40</td>\n",
              "      <td>Extremely A</td>\n",
              "      <td>34</td>\n",
              "      <td>Extremely D</td>\n",
              "      <td>27</td>\n",
              "    </tr>\n",
              "    <tr>\n",
              "      <th>1</th>\n",
              "      <td>3</td>\n",
              "      <td>1</td>\n",
              "      <td>8118</td>\n",
              "      <td>0</td>\n",
              "      <td>36</td>\n",
              "      <td>2890</td>\n",
              "      <td>1</td>\n",
              "      <td>35</td>\n",
              "      <td>4777</td>\n",
              "      <td>2</td>\n",
              "      <td>...</td>\n",
              "      <td>70</td>\n",
              "      <td>2</td>\n",
              "      <td>1</td>\n",
              "      <td>4</td>\n",
              "      <td>Severe S</td>\n",
              "      <td>27</td>\n",
              "      <td>Severe A</td>\n",
              "      <td>17</td>\n",
              "      <td>Extremely D</td>\n",
              "      <td>24</td>\n",
              "    </tr>\n",
              "    <tr>\n",
              "      <th>2</th>\n",
              "      <td>2</td>\n",
              "      <td>7</td>\n",
              "      <td>5784</td>\n",
              "      <td>0</td>\n",
              "      <td>33</td>\n",
              "      <td>4373</td>\n",
              "      <td>3</td>\n",
              "      <td>41</td>\n",
              "      <td>3242</td>\n",
              "      <td>0</td>\n",
              "      <td>...</td>\n",
              "      <td>60</td>\n",
              "      <td>1</td>\n",
              "      <td>1</td>\n",
              "      <td>3</td>\n",
              "      <td>Mild S</td>\n",
              "      <td>15</td>\n",
              "      <td>Moderate A</td>\n",
              "      <td>12</td>\n",
              "      <td>Extremely D</td>\n",
              "      <td>39</td>\n",
              "    </tr>\n",
              "    <tr>\n",
              "      <th>3</th>\n",
              "      <td>1</td>\n",
              "      <td>23</td>\n",
              "      <td>5081</td>\n",
              "      <td>2</td>\n",
              "      <td>11</td>\n",
              "      <td>6837</td>\n",
              "      <td>1</td>\n",
              "      <td>37</td>\n",
              "      <td>5521</td>\n",
              "      <td>0</td>\n",
              "      <td>...</td>\n",
              "      <td>70</td>\n",
              "      <td>2</td>\n",
              "      <td>1</td>\n",
              "      <td>5</td>\n",
              "      <td>Mild S</td>\n",
              "      <td>16</td>\n",
              "      <td>Severe A</td>\n",
              "      <td>17</td>\n",
              "      <td>Severe D</td>\n",
              "      <td>16</td>\n",
              "    </tr>\n",
              "    <tr>\n",
              "      <th>4</th>\n",
              "      <td>1</td>\n",
              "      <td>36</td>\n",
              "      <td>3215</td>\n",
              "      <td>1</td>\n",
              "      <td>13</td>\n",
              "      <td>7731</td>\n",
              "      <td>2</td>\n",
              "      <td>5</td>\n",
              "      <td>4156</td>\n",
              "      <td>3</td>\n",
              "      <td>...</td>\n",
              "      <td>10</td>\n",
              "      <td>2</td>\n",
              "      <td>1</td>\n",
              "      <td>4</td>\n",
              "      <td>Severe S</td>\n",
              "      <td>29</td>\n",
              "      <td>Extremely A</td>\n",
              "      <td>40</td>\n",
              "      <td>Extremely D</td>\n",
              "      <td>32</td>\n",
              "    </tr>\n",
              "    <tr>\n",
              "      <th>...</th>\n",
              "      <td>...</td>\n",
              "      <td>...</td>\n",
              "      <td>...</td>\n",
              "      <td>...</td>\n",
              "      <td>...</td>\n",
              "      <td>...</td>\n",
              "      <td>...</td>\n",
              "      <td>...</td>\n",
              "      <td>...</td>\n",
              "      <td>...</td>\n",
              "      <td>...</td>\n",
              "      <td>...</td>\n",
              "      <td>...</td>\n",
              "      <td>...</td>\n",
              "      <td>...</td>\n",
              "      <td>...</td>\n",
              "      <td>...</td>\n",
              "      <td>...</td>\n",
              "      <td>...</td>\n",
              "      <td>...</td>\n",
              "      <td>...</td>\n",
              "    </tr>\n",
              "    <tr>\n",
              "      <th>39759</th>\n",
              "      <td>1</td>\n",
              "      <td>41</td>\n",
              "      <td>15596</td>\n",
              "      <td>0</td>\n",
              "      <td>24</td>\n",
              "      <td>1818</td>\n",
              "      <td>1</td>\n",
              "      <td>25</td>\n",
              "      <td>1921</td>\n",
              "      <td>0</td>\n",
              "      <td>...</td>\n",
              "      <td>10</td>\n",
              "      <td>2</td>\n",
              "      <td>1</td>\n",
              "      <td>4</td>\n",
              "      <td>Mild S</td>\n",
              "      <td>18</td>\n",
              "      <td>Moderate A</td>\n",
              "      <td>10</td>\n",
              "      <td>Extremely D</td>\n",
              "      <td>22</td>\n",
              "    </tr>\n",
              "    <tr>\n",
              "      <th>39766</th>\n",
              "      <td>1</td>\n",
              "      <td>39</td>\n",
              "      <td>2305</td>\n",
              "      <td>0</td>\n",
              "      <td>33</td>\n",
              "      <td>2188</td>\n",
              "      <td>0</td>\n",
              "      <td>7</td>\n",
              "      <td>1924</td>\n",
              "      <td>1</td>\n",
              "      <td>...</td>\n",
              "      <td>70</td>\n",
              "      <td>1</td>\n",
              "      <td>1</td>\n",
              "      <td>2</td>\n",
              "      <td>Mild S</td>\n",
              "      <td>15</td>\n",
              "      <td>Severe A</td>\n",
              "      <td>19</td>\n",
              "      <td>Normal D</td>\n",
              "      <td>7</td>\n",
              "    </tr>\n",
              "    <tr>\n",
              "      <th>39767</th>\n",
              "      <td>3</td>\n",
              "      <td>0</td>\n",
              "      <td>14275</td>\n",
              "      <td>3</td>\n",
              "      <td>3</td>\n",
              "      <td>4721</td>\n",
              "      <td>3</td>\n",
              "      <td>33</td>\n",
              "      <td>3934</td>\n",
              "      <td>2</td>\n",
              "      <td>...</td>\n",
              "      <td>20</td>\n",
              "      <td>2</td>\n",
              "      <td>1</td>\n",
              "      <td>2</td>\n",
              "      <td>Severe S</td>\n",
              "      <td>32</td>\n",
              "      <td>Extremely A</td>\n",
              "      <td>25</td>\n",
              "      <td>Extremely D</td>\n",
              "      <td>36</td>\n",
              "    </tr>\n",
              "    <tr>\n",
              "      <th>39769</th>\n",
              "      <td>0</td>\n",
              "      <td>32</td>\n",
              "      <td>28897</td>\n",
              "      <td>3</td>\n",
              "      <td>3</td>\n",
              "      <td>3025</td>\n",
              "      <td>1</td>\n",
              "      <td>30</td>\n",
              "      <td>3248</td>\n",
              "      <td>1</td>\n",
              "      <td>...</td>\n",
              "      <td>70</td>\n",
              "      <td>2</td>\n",
              "      <td>1</td>\n",
              "      <td>3</td>\n",
              "      <td>Severe S</td>\n",
              "      <td>27</td>\n",
              "      <td>Extremely A</td>\n",
              "      <td>21</td>\n",
              "      <td>Severe D</td>\n",
              "      <td>15</td>\n",
              "    </tr>\n",
              "    <tr>\n",
              "      <th>39770</th>\n",
              "      <td>1</td>\n",
              "      <td>31</td>\n",
              "      <td>3287</td>\n",
              "      <td>0</td>\n",
              "      <td>5</td>\n",
              "      <td>2216</td>\n",
              "      <td>2</td>\n",
              "      <td>29</td>\n",
              "      <td>3895</td>\n",
              "      <td>1</td>\n",
              "      <td>...</td>\n",
              "      <td>60</td>\n",
              "      <td>2</td>\n",
              "      <td>1</td>\n",
              "      <td>2</td>\n",
              "      <td>Mild S</td>\n",
              "      <td>15</td>\n",
              "      <td>Moderate A</td>\n",
              "      <td>12</td>\n",
              "      <td>Extremely D</td>\n",
              "      <td>36</td>\n",
              "    </tr>\n",
              "  </tbody>\n",
              "</table>\n",
              "<p>13825 rows × 176 columns</p>\n",
              "</div>\n",
              "      <button class=\"colab-df-convert\" onclick=\"convertToInteractive('df-ff1e4af2-e79a-49e0-b152-78c05e8c90ca')\"\n",
              "              title=\"Convert this dataframe to an interactive table.\"\n",
              "              style=\"display:none;\">\n",
              "        \n",
              "  <svg xmlns=\"http://www.w3.org/2000/svg\" height=\"24px\"viewBox=\"0 0 24 24\"\n",
              "       width=\"24px\">\n",
              "    <path d=\"M0 0h24v24H0V0z\" fill=\"none\"/>\n",
              "    <path d=\"M18.56 5.44l.94 2.06.94-2.06 2.06-.94-2.06-.94-.94-2.06-.94 2.06-2.06.94zm-11 1L8.5 8.5l.94-2.06 2.06-.94-2.06-.94L8.5 2.5l-.94 2.06-2.06.94zm10 10l.94 2.06.94-2.06 2.06-.94-2.06-.94-.94-2.06-.94 2.06-2.06.94z\"/><path d=\"M17.41 7.96l-1.37-1.37c-.4-.4-.92-.59-1.43-.59-.52 0-1.04.2-1.43.59L10.3 9.45l-7.72 7.72c-.78.78-.78 2.05 0 2.83L4 21.41c.39.39.9.59 1.41.59.51 0 1.02-.2 1.41-.59l7.78-7.78 2.81-2.81c.8-.78.8-2.07 0-2.86zM5.41 20L4 18.59l7.72-7.72 1.47 1.35L5.41 20z\"/>\n",
              "  </svg>\n",
              "      </button>\n",
              "      \n",
              "  <style>\n",
              "    .colab-df-container {\n",
              "      display:flex;\n",
              "      flex-wrap:wrap;\n",
              "      gap: 12px;\n",
              "    }\n",
              "\n",
              "    .colab-df-convert {\n",
              "      background-color: #E8F0FE;\n",
              "      border: none;\n",
              "      border-radius: 50%;\n",
              "      cursor: pointer;\n",
              "      display: none;\n",
              "      fill: #1967D2;\n",
              "      height: 32px;\n",
              "      padding: 0 0 0 0;\n",
              "      width: 32px;\n",
              "    }\n",
              "\n",
              "    .colab-df-convert:hover {\n",
              "      background-color: #E2EBFA;\n",
              "      box-shadow: 0px 1px 2px rgba(60, 64, 67, 0.3), 0px 1px 3px 1px rgba(60, 64, 67, 0.15);\n",
              "      fill: #174EA6;\n",
              "    }\n",
              "\n",
              "    [theme=dark] .colab-df-convert {\n",
              "      background-color: #3B4455;\n",
              "      fill: #D2E3FC;\n",
              "    }\n",
              "\n",
              "    [theme=dark] .colab-df-convert:hover {\n",
              "      background-color: #434B5C;\n",
              "      box-shadow: 0px 1px 3px 1px rgba(0, 0, 0, 0.15);\n",
              "      filter: drop-shadow(0px 1px 2px rgba(0, 0, 0, 0.3));\n",
              "      fill: #FFFFFF;\n",
              "    }\n",
              "  </style>\n",
              "\n",
              "      <script>\n",
              "        const buttonEl =\n",
              "          document.querySelector('#df-ff1e4af2-e79a-49e0-b152-78c05e8c90ca button.colab-df-convert');\n",
              "        buttonEl.style.display =\n",
              "          google.colab.kernel.accessAllowed ? 'block' : 'none';\n",
              "\n",
              "        async function convertToInteractive(key) {\n",
              "          const element = document.querySelector('#df-ff1e4af2-e79a-49e0-b152-78c05e8c90ca');\n",
              "          const dataTable =\n",
              "            await google.colab.kernel.invokeFunction('convertToInteractive',\n",
              "                                                     [key], {});\n",
              "          if (!dataTable) return;\n",
              "\n",
              "          const docLinkHtml = 'Like what you see? Visit the ' +\n",
              "            '<a target=\"_blank\" href=https://colab.research.google.com/notebooks/data_table.ipynb>data table notebook</a>'\n",
              "            + ' to learn more about interactive tables.';\n",
              "          element.innerHTML = '';\n",
              "          dataTable['output_type'] = 'display_data';\n",
              "          await google.colab.output.renderOutput(dataTable, element);\n",
              "          const docLink = document.createElement('div');\n",
              "          docLink.innerHTML = docLinkHtml;\n",
              "          element.appendChild(docLink);\n",
              "        }\n",
              "      </script>\n",
              "    </div>\n",
              "  </div>\n",
              "  "
            ]
          },
          "metadata": {},
          "execution_count": 17
        }
      ]
    },
    {
      "cell_type": "code",
      "source": [
        "modeldataR = teen_data[['Q1A','Q6A','Q8A','Q11A','Q12A','Q14A','Q18A','Q22A','Q27A','Q29A','Q32A','Q33A','Q35A','Q39A',\n",
        "\"Q2A\",\"Q4A\",\"Q7A\",\"Q9A\",\"Q15A\",\"Q19A\",\"Q20A\",\"Q23A\",\"Q25A\",\"Q28A\",\"Q30A\",\"Q36A\",\"Q40A\",\"Q41A\",\"Q3A\",\"Q5A\",\"Q10A\",\"Q13A\",\"Q16A\",\"Q17A\",\"Q21A\",\"Q24A\",\"Q26A\",\"Q31A\",\"Q34A\",\"Q37A\",\"Q38A\",\"Q42A\",'age','Stress_R','Depression_R','Anxiety_R']]"
      ],
      "metadata": {
        "id": "CdSy1LTepyoV"
      },
      "execution_count": 18,
      "outputs": []
    },
    {
      "cell_type": "code",
      "source": [
        "#splittin the data in train and test sets\n",
        "from sklearn.model_selection import train_test_split"
      ],
      "metadata": {
        "id": "5U3cis3gp_S1"
      },
      "execution_count": 19,
      "outputs": []
    },
    {
      "cell_type": "code",
      "source": [
        "X = modeldataR.iloc[:, :43].values\n",
        "Y = modeldataR.iloc[:, 43:].values\n",
        "\n",
        "x_train, x_test, y_train, y_test = train_test_split(X, Y, \n",
        "    test_size=0.2, random_state= 8)"
      ],
      "metadata": {
        "id": "CwQam9L6qFNu"
      },
      "execution_count": 20,
      "outputs": []
    },
    {
      "cell_type": "code",
      "source": [
        "print(x_train.shape)\n",
        "print(y_train.shape)\n",
        "print(x_test.shape)\n",
        "print(y_test.shape)"
      ],
      "metadata": {
        "colab": {
          "base_uri": "https://localhost:8080/"
        },
        "id": "6tCBG91dqVDt",
        "outputId": "9bed75da-1003-4536-b1cd-d9912c942a5e"
      },
      "execution_count": 21,
      "outputs": [
        {
          "output_type": "stream",
          "name": "stdout",
          "text": [
            "(11060, 43)\n",
            "(11060, 3)\n",
            "(2765, 43)\n",
            "(2765, 3)\n"
          ]
        }
      ]
    },
    {
      "cell_type": "markdown",
      "source": [
        "First approach - Using Regression method"
      ],
      "metadata": {
        "id": "33pmZpmaqaHn"
      }
    },
    {
      "cell_type": "code",
      "source": [
        "from sklearn.multioutput import MultiOutputRegressor\n",
        "from sklearn.multioutput import MultiOutputClassifier\n",
        "from sklearn.tree import DecisionTreeRegressor\n",
        "from sklearn.svm import LinearSVR\n",
        "from sklearn.ensemble import GradientBoostingRegressor\n",
        "from sklearn.ensemble import RandomForestClassifier\n",
        "from sklearn.ensemble import RandomForestRegressor\n",
        "from sklearn.linear_model import LinearRegression"
      ],
      "metadata": {
        "id": "emHH64NeqcPn"
      },
      "execution_count": 22,
      "outputs": []
    },
    {
      "cell_type": "code",
      "source": [
        "#Implementing Linear Regression \n",
        "\n",
        "log_model = LinearRegression()\n",
        "wrapper = MultiOutputRegressor(estimator = log_model)\n",
        "# fit model\n",
        "wrapper.fit(x_train, y_train)"
      ],
      "metadata": {
        "colab": {
          "base_uri": "https://localhost:8080/",
          "height": 117
        },
        "id": "QP3TcNaFqgiX",
        "outputId": "fff92068-35e0-47e3-a746-1bd5dad49bbe"
      },
      "execution_count": 23,
      "outputs": [
        {
          "output_type": "execute_result",
          "data": {
            "text/plain": [
              "MultiOutputRegressor(estimator=LinearRegression())"
            ],
            "text/html": [
              "<style>#sk-container-id-1 {color: black;background-color: white;}#sk-container-id-1 pre{padding: 0;}#sk-container-id-1 div.sk-toggleable {background-color: white;}#sk-container-id-1 label.sk-toggleable__label {cursor: pointer;display: block;width: 100%;margin-bottom: 0;padding: 0.3em;box-sizing: border-box;text-align: center;}#sk-container-id-1 label.sk-toggleable__label-arrow:before {content: \"▸\";float: left;margin-right: 0.25em;color: #696969;}#sk-container-id-1 label.sk-toggleable__label-arrow:hover:before {color: black;}#sk-container-id-1 div.sk-estimator:hover label.sk-toggleable__label-arrow:before {color: black;}#sk-container-id-1 div.sk-toggleable__content {max-height: 0;max-width: 0;overflow: hidden;text-align: left;background-color: #f0f8ff;}#sk-container-id-1 div.sk-toggleable__content pre {margin: 0.2em;color: black;border-radius: 0.25em;background-color: #f0f8ff;}#sk-container-id-1 input.sk-toggleable__control:checked~div.sk-toggleable__content {max-height: 200px;max-width: 100%;overflow: auto;}#sk-container-id-1 input.sk-toggleable__control:checked~label.sk-toggleable__label-arrow:before {content: \"▾\";}#sk-container-id-1 div.sk-estimator input.sk-toggleable__control:checked~label.sk-toggleable__label {background-color: #d4ebff;}#sk-container-id-1 div.sk-label input.sk-toggleable__control:checked~label.sk-toggleable__label {background-color: #d4ebff;}#sk-container-id-1 input.sk-hidden--visually {border: 0;clip: rect(1px 1px 1px 1px);clip: rect(1px, 1px, 1px, 1px);height: 1px;margin: -1px;overflow: hidden;padding: 0;position: absolute;width: 1px;}#sk-container-id-1 div.sk-estimator {font-family: monospace;background-color: #f0f8ff;border: 1px dotted black;border-radius: 0.25em;box-sizing: border-box;margin-bottom: 0.5em;}#sk-container-id-1 div.sk-estimator:hover {background-color: #d4ebff;}#sk-container-id-1 div.sk-parallel-item::after {content: \"\";width: 100%;border-bottom: 1px solid gray;flex-grow: 1;}#sk-container-id-1 div.sk-label:hover label.sk-toggleable__label {background-color: #d4ebff;}#sk-container-id-1 div.sk-serial::before {content: \"\";position: absolute;border-left: 1px solid gray;box-sizing: border-box;top: 0;bottom: 0;left: 50%;z-index: 0;}#sk-container-id-1 div.sk-serial {display: flex;flex-direction: column;align-items: center;background-color: white;padding-right: 0.2em;padding-left: 0.2em;position: relative;}#sk-container-id-1 div.sk-item {position: relative;z-index: 1;}#sk-container-id-1 div.sk-parallel {display: flex;align-items: stretch;justify-content: center;background-color: white;position: relative;}#sk-container-id-1 div.sk-item::before, #sk-container-id-1 div.sk-parallel-item::before {content: \"\";position: absolute;border-left: 1px solid gray;box-sizing: border-box;top: 0;bottom: 0;left: 50%;z-index: -1;}#sk-container-id-1 div.sk-parallel-item {display: flex;flex-direction: column;z-index: 1;position: relative;background-color: white;}#sk-container-id-1 div.sk-parallel-item:first-child::after {align-self: flex-end;width: 50%;}#sk-container-id-1 div.sk-parallel-item:last-child::after {align-self: flex-start;width: 50%;}#sk-container-id-1 div.sk-parallel-item:only-child::after {width: 0;}#sk-container-id-1 div.sk-dashed-wrapped {border: 1px dashed gray;margin: 0 0.4em 0.5em 0.4em;box-sizing: border-box;padding-bottom: 0.4em;background-color: white;}#sk-container-id-1 div.sk-label label {font-family: monospace;font-weight: bold;display: inline-block;line-height: 1.2em;}#sk-container-id-1 div.sk-label-container {text-align: center;}#sk-container-id-1 div.sk-container {/* jupyter's `normalize.less` sets `[hidden] { display: none; }` but bootstrap.min.css set `[hidden] { display: none !important; }` so we also need the `!important` here to be able to override the default hidden behavior on the sphinx rendered scikit-learn.org. See: https://github.com/scikit-learn/scikit-learn/issues/21755 */display: inline-block !important;position: relative;}#sk-container-id-1 div.sk-text-repr-fallback {display: none;}</style><div id=\"sk-container-id-1\" class=\"sk-top-container\"><div class=\"sk-text-repr-fallback\"><pre>MultiOutputRegressor(estimator=LinearRegression())</pre><b>In a Jupyter environment, please rerun this cell to show the HTML representation or trust the notebook. <br />On GitHub, the HTML representation is unable to render, please try loading this page with nbviewer.org.</b></div><div class=\"sk-container\" hidden><div class=\"sk-item sk-dashed-wrapped\"><div class=\"sk-label-container\"><div class=\"sk-label sk-toggleable\"><input class=\"sk-toggleable__control sk-hidden--visually\" id=\"sk-estimator-id-1\" type=\"checkbox\" ><label for=\"sk-estimator-id-1\" class=\"sk-toggleable__label sk-toggleable__label-arrow\">MultiOutputRegressor</label><div class=\"sk-toggleable__content\"><pre>MultiOutputRegressor(estimator=LinearRegression())</pre></div></div></div><div class=\"sk-parallel\"><div class=\"sk-parallel-item\"><div class=\"sk-item\"><div class=\"sk-label-container\"><div class=\"sk-label sk-toggleable\"><input class=\"sk-toggleable__control sk-hidden--visually\" id=\"sk-estimator-id-2\" type=\"checkbox\" ><label for=\"sk-estimator-id-2\" class=\"sk-toggleable__label sk-toggleable__label-arrow\">estimator: LinearRegression</label><div class=\"sk-toggleable__content\"><pre>LinearRegression()</pre></div></div></div><div class=\"sk-serial\"><div class=\"sk-item\"><div class=\"sk-estimator sk-toggleable\"><input class=\"sk-toggleable__control sk-hidden--visually\" id=\"sk-estimator-id-3\" type=\"checkbox\" ><label for=\"sk-estimator-id-3\" class=\"sk-toggleable__label sk-toggleable__label-arrow\">LinearRegression</label><div class=\"sk-toggleable__content\"><pre>LinearRegression()</pre></div></div></div></div></div></div></div></div></div></div>"
            ]
          },
          "metadata": {},
          "execution_count": 23
        }
      ]
    },
    {
      "cell_type": "code",
      "source": [
        "log_pred = wrapper.predict(x_test)\n",
        "\n",
        "log_pred = log_pred.astype(int)\n",
        "print(log_pred)"
      ],
      "metadata": {
        "colab": {
          "base_uri": "https://localhost:8080/"
        },
        "id": "ilofzxqbqhFt",
        "outputId": "d7e137a8-cba7-487b-a43e-a1efe54ac450"
      },
      "execution_count": 24,
      "outputs": [
        {
          "output_type": "stream",
          "name": "stdout",
          "text": [
            "[[29 38 24]\n",
            " [15  5  7]\n",
            " [39 35 37]\n",
            " ...\n",
            " [ 4  4  5]\n",
            " [25 40 18]\n",
            " [11  8 14]]\n"
          ]
        }
      ]
    },
    {
      "cell_type": "code",
      "source": [
        "log_accuracy = np.mean(log_pred == y_test)\n",
        "\n",
        "print(log_accuracy)"
      ],
      "metadata": {
        "colab": {
          "base_uri": "https://localhost:8080/"
        },
        "id": "CABriiwlqj-m",
        "outputId": "c2c6296a-c57a-408f-f832-66a3073e4276"
      },
      "execution_count": 112,
      "outputs": [
        {
          "output_type": "stream",
          "name": "stdout",
          "text": [
            "0.0\n"
          ]
        }
      ]
    },
    {
      "cell_type": "code",
      "source": [
        "#Implementing Random Forest\n",
        "forest = RandomForestRegressor(random_state = 1)\n",
        "wrapper = MultiOutputRegressor(estimator = forest)\n",
        "# fit model\n",
        "wrapper.fit(x_train, y_train)"
      ],
      "metadata": {
        "colab": {
          "base_uri": "https://localhost:8080/",
          "height": 117
        },
        "id": "ni3JHCXrqm2N",
        "outputId": "c5c1e84e-9bfd-4f66-f184-3bb84ba29ad7"
      },
      "execution_count": 26,
      "outputs": [
        {
          "output_type": "execute_result",
          "data": {
            "text/plain": [
              "MultiOutputRegressor(estimator=RandomForestRegressor(random_state=1))"
            ],
            "text/html": [
              "<style>#sk-container-id-2 {color: black;background-color: white;}#sk-container-id-2 pre{padding: 0;}#sk-container-id-2 div.sk-toggleable {background-color: white;}#sk-container-id-2 label.sk-toggleable__label {cursor: pointer;display: block;width: 100%;margin-bottom: 0;padding: 0.3em;box-sizing: border-box;text-align: center;}#sk-container-id-2 label.sk-toggleable__label-arrow:before {content: \"▸\";float: left;margin-right: 0.25em;color: #696969;}#sk-container-id-2 label.sk-toggleable__label-arrow:hover:before {color: black;}#sk-container-id-2 div.sk-estimator:hover label.sk-toggleable__label-arrow:before {color: black;}#sk-container-id-2 div.sk-toggleable__content {max-height: 0;max-width: 0;overflow: hidden;text-align: left;background-color: #f0f8ff;}#sk-container-id-2 div.sk-toggleable__content pre {margin: 0.2em;color: black;border-radius: 0.25em;background-color: #f0f8ff;}#sk-container-id-2 input.sk-toggleable__control:checked~div.sk-toggleable__content {max-height: 200px;max-width: 100%;overflow: auto;}#sk-container-id-2 input.sk-toggleable__control:checked~label.sk-toggleable__label-arrow:before {content: \"▾\";}#sk-container-id-2 div.sk-estimator input.sk-toggleable__control:checked~label.sk-toggleable__label {background-color: #d4ebff;}#sk-container-id-2 div.sk-label input.sk-toggleable__control:checked~label.sk-toggleable__label {background-color: #d4ebff;}#sk-container-id-2 input.sk-hidden--visually {border: 0;clip: rect(1px 1px 1px 1px);clip: rect(1px, 1px, 1px, 1px);height: 1px;margin: -1px;overflow: hidden;padding: 0;position: absolute;width: 1px;}#sk-container-id-2 div.sk-estimator {font-family: monospace;background-color: #f0f8ff;border: 1px dotted black;border-radius: 0.25em;box-sizing: border-box;margin-bottom: 0.5em;}#sk-container-id-2 div.sk-estimator:hover {background-color: #d4ebff;}#sk-container-id-2 div.sk-parallel-item::after {content: \"\";width: 100%;border-bottom: 1px solid gray;flex-grow: 1;}#sk-container-id-2 div.sk-label:hover label.sk-toggleable__label {background-color: #d4ebff;}#sk-container-id-2 div.sk-serial::before {content: \"\";position: absolute;border-left: 1px solid gray;box-sizing: border-box;top: 0;bottom: 0;left: 50%;z-index: 0;}#sk-container-id-2 div.sk-serial {display: flex;flex-direction: column;align-items: center;background-color: white;padding-right: 0.2em;padding-left: 0.2em;position: relative;}#sk-container-id-2 div.sk-item {position: relative;z-index: 1;}#sk-container-id-2 div.sk-parallel {display: flex;align-items: stretch;justify-content: center;background-color: white;position: relative;}#sk-container-id-2 div.sk-item::before, #sk-container-id-2 div.sk-parallel-item::before {content: \"\";position: absolute;border-left: 1px solid gray;box-sizing: border-box;top: 0;bottom: 0;left: 50%;z-index: -1;}#sk-container-id-2 div.sk-parallel-item {display: flex;flex-direction: column;z-index: 1;position: relative;background-color: white;}#sk-container-id-2 div.sk-parallel-item:first-child::after {align-self: flex-end;width: 50%;}#sk-container-id-2 div.sk-parallel-item:last-child::after {align-self: flex-start;width: 50%;}#sk-container-id-2 div.sk-parallel-item:only-child::after {width: 0;}#sk-container-id-2 div.sk-dashed-wrapped {border: 1px dashed gray;margin: 0 0.4em 0.5em 0.4em;box-sizing: border-box;padding-bottom: 0.4em;background-color: white;}#sk-container-id-2 div.sk-label label {font-family: monospace;font-weight: bold;display: inline-block;line-height: 1.2em;}#sk-container-id-2 div.sk-label-container {text-align: center;}#sk-container-id-2 div.sk-container {/* jupyter's `normalize.less` sets `[hidden] { display: none; }` but bootstrap.min.css set `[hidden] { display: none !important; }` so we also need the `!important` here to be able to override the default hidden behavior on the sphinx rendered scikit-learn.org. See: https://github.com/scikit-learn/scikit-learn/issues/21755 */display: inline-block !important;position: relative;}#sk-container-id-2 div.sk-text-repr-fallback {display: none;}</style><div id=\"sk-container-id-2\" class=\"sk-top-container\"><div class=\"sk-text-repr-fallback\"><pre>MultiOutputRegressor(estimator=RandomForestRegressor(random_state=1))</pre><b>In a Jupyter environment, please rerun this cell to show the HTML representation or trust the notebook. <br />On GitHub, the HTML representation is unable to render, please try loading this page with nbviewer.org.</b></div><div class=\"sk-container\" hidden><div class=\"sk-item sk-dashed-wrapped\"><div class=\"sk-label-container\"><div class=\"sk-label sk-toggleable\"><input class=\"sk-toggleable__control sk-hidden--visually\" id=\"sk-estimator-id-4\" type=\"checkbox\" ><label for=\"sk-estimator-id-4\" class=\"sk-toggleable__label sk-toggleable__label-arrow\">MultiOutputRegressor</label><div class=\"sk-toggleable__content\"><pre>MultiOutputRegressor(estimator=RandomForestRegressor(random_state=1))</pre></div></div></div><div class=\"sk-parallel\"><div class=\"sk-parallel-item\"><div class=\"sk-item\"><div class=\"sk-label-container\"><div class=\"sk-label sk-toggleable\"><input class=\"sk-toggleable__control sk-hidden--visually\" id=\"sk-estimator-id-5\" type=\"checkbox\" ><label for=\"sk-estimator-id-5\" class=\"sk-toggleable__label sk-toggleable__label-arrow\">estimator: RandomForestRegressor</label><div class=\"sk-toggleable__content\"><pre>RandomForestRegressor(random_state=1)</pre></div></div></div><div class=\"sk-serial\"><div class=\"sk-item\"><div class=\"sk-estimator sk-toggleable\"><input class=\"sk-toggleable__control sk-hidden--visually\" id=\"sk-estimator-id-6\" type=\"checkbox\" ><label for=\"sk-estimator-id-6\" class=\"sk-toggleable__label sk-toggleable__label-arrow\">RandomForestRegressor</label><div class=\"sk-toggleable__content\"><pre>RandomForestRegressor(random_state=1)</pre></div></div></div></div></div></div></div></div></div></div>"
            ]
          },
          "metadata": {},
          "execution_count": 26
        }
      ]
    },
    {
      "cell_type": "code",
      "source": [
        "pred = wrapper.predict(x_test)\n",
        "\n",
        "rf_pred = pred.astype(int)\n",
        "print(rf_pred)"
      ],
      "metadata": {
        "colab": {
          "base_uri": "https://localhost:8080/"
        },
        "id": "yHPys13-qqUN",
        "outputId": "00973d8d-bf8a-402b-ec5e-681495931317"
      },
      "execution_count": 27,
      "outputs": [
        {
          "output_type": "stream",
          "name": "stdout",
          "text": [
            "[[30 38 24]\n",
            " [17  5 10]\n",
            " [39 34 37]\n",
            " ...\n",
            " [ 5  6  4]\n",
            " [26 39 19]\n",
            " [11  9 16]]\n"
          ]
        }
      ]
    },
    {
      "cell_type": "code",
      "source": [
        "accuracy = np.mean(rf_pred == y_test)\n",
        "\n",
        "print(accuracy)"
      ],
      "metadata": {
        "colab": {
          "base_uri": "https://localhost:8080/"
        },
        "id": "nYf5gEjgq3j-",
        "outputId": "833b9fa5-a0c5-49f4-c9e8-0c7d5463f380"
      },
      "execution_count": 28,
      "outputs": [
        {
          "output_type": "stream",
          "name": "stdout",
          "text": [
            "0.2918625678119349\n"
          ]
        }
      ]
    },
    {
      "cell_type": "code",
      "source": [
        "from sklearn.tree import DecisionTreeClassifier\n",
        "from sklearn.tree import DecisionTreeRegressor\n",
        "from sklearn import tree"
      ],
      "metadata": {
        "id": "dpkhlGgjq6LO"
      },
      "execution_count": 29,
      "outputs": []
    },
    {
      "cell_type": "code",
      "source": [
        "clf = tree.DecisionTreeRegressor()\n",
        "decisiontree = MultiOutputRegressor(estimator = clf)\n",
        "decisiontree.fit(x_train, y_train)"
      ],
      "metadata": {
        "colab": {
          "base_uri": "https://localhost:8080/",
          "height": 117
        },
        "id": "5vbdjBdcq7_G",
        "outputId": "94eb409b-3b9f-4618-9a08-ed6c208bfad0"
      },
      "execution_count": 30,
      "outputs": [
        {
          "output_type": "execute_result",
          "data": {
            "text/plain": [
              "MultiOutputRegressor(estimator=DecisionTreeRegressor())"
            ],
            "text/html": [
              "<style>#sk-container-id-3 {color: black;background-color: white;}#sk-container-id-3 pre{padding: 0;}#sk-container-id-3 div.sk-toggleable {background-color: white;}#sk-container-id-3 label.sk-toggleable__label {cursor: pointer;display: block;width: 100%;margin-bottom: 0;padding: 0.3em;box-sizing: border-box;text-align: center;}#sk-container-id-3 label.sk-toggleable__label-arrow:before {content: \"▸\";float: left;margin-right: 0.25em;color: #696969;}#sk-container-id-3 label.sk-toggleable__label-arrow:hover:before {color: black;}#sk-container-id-3 div.sk-estimator:hover label.sk-toggleable__label-arrow:before {color: black;}#sk-container-id-3 div.sk-toggleable__content {max-height: 0;max-width: 0;overflow: hidden;text-align: left;background-color: #f0f8ff;}#sk-container-id-3 div.sk-toggleable__content pre {margin: 0.2em;color: black;border-radius: 0.25em;background-color: #f0f8ff;}#sk-container-id-3 input.sk-toggleable__control:checked~div.sk-toggleable__content {max-height: 200px;max-width: 100%;overflow: auto;}#sk-container-id-3 input.sk-toggleable__control:checked~label.sk-toggleable__label-arrow:before {content: \"▾\";}#sk-container-id-3 div.sk-estimator input.sk-toggleable__control:checked~label.sk-toggleable__label {background-color: #d4ebff;}#sk-container-id-3 div.sk-label input.sk-toggleable__control:checked~label.sk-toggleable__label {background-color: #d4ebff;}#sk-container-id-3 input.sk-hidden--visually {border: 0;clip: rect(1px 1px 1px 1px);clip: rect(1px, 1px, 1px, 1px);height: 1px;margin: -1px;overflow: hidden;padding: 0;position: absolute;width: 1px;}#sk-container-id-3 div.sk-estimator {font-family: monospace;background-color: #f0f8ff;border: 1px dotted black;border-radius: 0.25em;box-sizing: border-box;margin-bottom: 0.5em;}#sk-container-id-3 div.sk-estimator:hover {background-color: #d4ebff;}#sk-container-id-3 div.sk-parallel-item::after {content: \"\";width: 100%;border-bottom: 1px solid gray;flex-grow: 1;}#sk-container-id-3 div.sk-label:hover label.sk-toggleable__label {background-color: #d4ebff;}#sk-container-id-3 div.sk-serial::before {content: \"\";position: absolute;border-left: 1px solid gray;box-sizing: border-box;top: 0;bottom: 0;left: 50%;z-index: 0;}#sk-container-id-3 div.sk-serial {display: flex;flex-direction: column;align-items: center;background-color: white;padding-right: 0.2em;padding-left: 0.2em;position: relative;}#sk-container-id-3 div.sk-item {position: relative;z-index: 1;}#sk-container-id-3 div.sk-parallel {display: flex;align-items: stretch;justify-content: center;background-color: white;position: relative;}#sk-container-id-3 div.sk-item::before, #sk-container-id-3 div.sk-parallel-item::before {content: \"\";position: absolute;border-left: 1px solid gray;box-sizing: border-box;top: 0;bottom: 0;left: 50%;z-index: -1;}#sk-container-id-3 div.sk-parallel-item {display: flex;flex-direction: column;z-index: 1;position: relative;background-color: white;}#sk-container-id-3 div.sk-parallel-item:first-child::after {align-self: flex-end;width: 50%;}#sk-container-id-3 div.sk-parallel-item:last-child::after {align-self: flex-start;width: 50%;}#sk-container-id-3 div.sk-parallel-item:only-child::after {width: 0;}#sk-container-id-3 div.sk-dashed-wrapped {border: 1px dashed gray;margin: 0 0.4em 0.5em 0.4em;box-sizing: border-box;padding-bottom: 0.4em;background-color: white;}#sk-container-id-3 div.sk-label label {font-family: monospace;font-weight: bold;display: inline-block;line-height: 1.2em;}#sk-container-id-3 div.sk-label-container {text-align: center;}#sk-container-id-3 div.sk-container {/* jupyter's `normalize.less` sets `[hidden] { display: none; }` but bootstrap.min.css set `[hidden] { display: none !important; }` so we also need the `!important` here to be able to override the default hidden behavior on the sphinx rendered scikit-learn.org. See: https://github.com/scikit-learn/scikit-learn/issues/21755 */display: inline-block !important;position: relative;}#sk-container-id-3 div.sk-text-repr-fallback {display: none;}</style><div id=\"sk-container-id-3\" class=\"sk-top-container\"><div class=\"sk-text-repr-fallback\"><pre>MultiOutputRegressor(estimator=DecisionTreeRegressor())</pre><b>In a Jupyter environment, please rerun this cell to show the HTML representation or trust the notebook. <br />On GitHub, the HTML representation is unable to render, please try loading this page with nbviewer.org.</b></div><div class=\"sk-container\" hidden><div class=\"sk-item sk-dashed-wrapped\"><div class=\"sk-label-container\"><div class=\"sk-label sk-toggleable\"><input class=\"sk-toggleable__control sk-hidden--visually\" id=\"sk-estimator-id-7\" type=\"checkbox\" ><label for=\"sk-estimator-id-7\" class=\"sk-toggleable__label sk-toggleable__label-arrow\">MultiOutputRegressor</label><div class=\"sk-toggleable__content\"><pre>MultiOutputRegressor(estimator=DecisionTreeRegressor())</pre></div></div></div><div class=\"sk-parallel\"><div class=\"sk-parallel-item\"><div class=\"sk-item\"><div class=\"sk-label-container\"><div class=\"sk-label sk-toggleable\"><input class=\"sk-toggleable__control sk-hidden--visually\" id=\"sk-estimator-id-8\" type=\"checkbox\" ><label for=\"sk-estimator-id-8\" class=\"sk-toggleable__label sk-toggleable__label-arrow\">estimator: DecisionTreeRegressor</label><div class=\"sk-toggleable__content\"><pre>DecisionTreeRegressor()</pre></div></div></div><div class=\"sk-serial\"><div class=\"sk-item\"><div class=\"sk-estimator sk-toggleable\"><input class=\"sk-toggleable__control sk-hidden--visually\" id=\"sk-estimator-id-9\" type=\"checkbox\" ><label for=\"sk-estimator-id-9\" class=\"sk-toggleable__label sk-toggleable__label-arrow\">DecisionTreeRegressor</label><div class=\"sk-toggleable__content\"><pre>DecisionTreeRegressor()</pre></div></div></div></div></div></div></div></div></div></div>"
            ]
          },
          "metadata": {},
          "execution_count": 30
        }
      ]
    },
    {
      "cell_type": "code",
      "source": [
        "dtpred = decisiontree.predict(x_test)\n",
        "dtpred = dtpred.astype(int)\n",
        "print(dtpred)"
      ],
      "metadata": {
        "colab": {
          "base_uri": "https://localhost:8080/"
        },
        "id": "KK151uH3q-OP",
        "outputId": "8638ff18-a5e1-4487-c45a-3fb8e3029fda"
      },
      "execution_count": 31,
      "outputs": [
        {
          "output_type": "stream",
          "name": "stdout",
          "text": [
            "[[26 39 23]\n",
            " [25  3  9]\n",
            " [40 37 39]\n",
            " ...\n",
            " [ 5  4  5]\n",
            " [24 36 26]\n",
            " [ 9  6 21]]\n"
          ]
        }
      ]
    },
    {
      "cell_type": "code",
      "source": [
        "dtaccu = np.mean(dtpred == y_test)\n",
        "\n",
        "print(dtaccu)"
      ],
      "metadata": {
        "colab": {
          "base_uri": "https://localhost:8080/"
        },
        "id": "5ajyYUvErATe",
        "outputId": "db634d04-ac6d-45c1-e474-6c2e4da254c1"
      },
      "execution_count": 32,
      "outputs": [
        {
          "output_type": "stream",
          "name": "stdout",
          "text": [
            "0.19722724532851116\n"
          ]
        }
      ]
    },
    {
      "cell_type": "code",
      "source": [
        "#Implementing Support Vector Machine Models\n",
        "\n",
        "from sklearn.svm import SVC  \n",
        "from sklearn.multioutput import MultiOutputClassifier"
      ],
      "metadata": {
        "id": "ASoYNmihrCL2"
      },
      "execution_count": 33,
      "outputs": []
    },
    {
      "cell_type": "code",
      "source": [
        "clfsvc = SVC(kernel='linear') \n",
        "modelsvc = MultiOutputRegressor(estimator = clfsvc)  \n",
        "# fitting x samples and y classes \n",
        "modelsvc.fit(x_train, y_train)"
      ],
      "metadata": {
        "colab": {
          "base_uri": "https://localhost:8080/",
          "height": 117
        },
        "id": "DWpmXem0rEPW",
        "outputId": "08fdb1fb-64f0-4cc0-ea10-2d8f1409404a"
      },
      "execution_count": 34,
      "outputs": [
        {
          "output_type": "execute_result",
          "data": {
            "text/plain": [
              "MultiOutputRegressor(estimator=SVC(kernel='linear'))"
            ],
            "text/html": [
              "<style>#sk-container-id-4 {color: black;background-color: white;}#sk-container-id-4 pre{padding: 0;}#sk-container-id-4 div.sk-toggleable {background-color: white;}#sk-container-id-4 label.sk-toggleable__label {cursor: pointer;display: block;width: 100%;margin-bottom: 0;padding: 0.3em;box-sizing: border-box;text-align: center;}#sk-container-id-4 label.sk-toggleable__label-arrow:before {content: \"▸\";float: left;margin-right: 0.25em;color: #696969;}#sk-container-id-4 label.sk-toggleable__label-arrow:hover:before {color: black;}#sk-container-id-4 div.sk-estimator:hover label.sk-toggleable__label-arrow:before {color: black;}#sk-container-id-4 div.sk-toggleable__content {max-height: 0;max-width: 0;overflow: hidden;text-align: left;background-color: #f0f8ff;}#sk-container-id-4 div.sk-toggleable__content pre {margin: 0.2em;color: black;border-radius: 0.25em;background-color: #f0f8ff;}#sk-container-id-4 input.sk-toggleable__control:checked~div.sk-toggleable__content {max-height: 200px;max-width: 100%;overflow: auto;}#sk-container-id-4 input.sk-toggleable__control:checked~label.sk-toggleable__label-arrow:before {content: \"▾\";}#sk-container-id-4 div.sk-estimator input.sk-toggleable__control:checked~label.sk-toggleable__label {background-color: #d4ebff;}#sk-container-id-4 div.sk-label input.sk-toggleable__control:checked~label.sk-toggleable__label {background-color: #d4ebff;}#sk-container-id-4 input.sk-hidden--visually {border: 0;clip: rect(1px 1px 1px 1px);clip: rect(1px, 1px, 1px, 1px);height: 1px;margin: -1px;overflow: hidden;padding: 0;position: absolute;width: 1px;}#sk-container-id-4 div.sk-estimator {font-family: monospace;background-color: #f0f8ff;border: 1px dotted black;border-radius: 0.25em;box-sizing: border-box;margin-bottom: 0.5em;}#sk-container-id-4 div.sk-estimator:hover {background-color: #d4ebff;}#sk-container-id-4 div.sk-parallel-item::after {content: \"\";width: 100%;border-bottom: 1px solid gray;flex-grow: 1;}#sk-container-id-4 div.sk-label:hover label.sk-toggleable__label {background-color: #d4ebff;}#sk-container-id-4 div.sk-serial::before {content: \"\";position: absolute;border-left: 1px solid gray;box-sizing: border-box;top: 0;bottom: 0;left: 50%;z-index: 0;}#sk-container-id-4 div.sk-serial {display: flex;flex-direction: column;align-items: center;background-color: white;padding-right: 0.2em;padding-left: 0.2em;position: relative;}#sk-container-id-4 div.sk-item {position: relative;z-index: 1;}#sk-container-id-4 div.sk-parallel {display: flex;align-items: stretch;justify-content: center;background-color: white;position: relative;}#sk-container-id-4 div.sk-item::before, #sk-container-id-4 div.sk-parallel-item::before {content: \"\";position: absolute;border-left: 1px solid gray;box-sizing: border-box;top: 0;bottom: 0;left: 50%;z-index: -1;}#sk-container-id-4 div.sk-parallel-item {display: flex;flex-direction: column;z-index: 1;position: relative;background-color: white;}#sk-container-id-4 div.sk-parallel-item:first-child::after {align-self: flex-end;width: 50%;}#sk-container-id-4 div.sk-parallel-item:last-child::after {align-self: flex-start;width: 50%;}#sk-container-id-4 div.sk-parallel-item:only-child::after {width: 0;}#sk-container-id-4 div.sk-dashed-wrapped {border: 1px dashed gray;margin: 0 0.4em 0.5em 0.4em;box-sizing: border-box;padding-bottom: 0.4em;background-color: white;}#sk-container-id-4 div.sk-label label {font-family: monospace;font-weight: bold;display: inline-block;line-height: 1.2em;}#sk-container-id-4 div.sk-label-container {text-align: center;}#sk-container-id-4 div.sk-container {/* jupyter's `normalize.less` sets `[hidden] { display: none; }` but bootstrap.min.css set `[hidden] { display: none !important; }` so we also need the `!important` here to be able to override the default hidden behavior on the sphinx rendered scikit-learn.org. See: https://github.com/scikit-learn/scikit-learn/issues/21755 */display: inline-block !important;position: relative;}#sk-container-id-4 div.sk-text-repr-fallback {display: none;}</style><div id=\"sk-container-id-4\" class=\"sk-top-container\"><div class=\"sk-text-repr-fallback\"><pre>MultiOutputRegressor(estimator=SVC(kernel=&#x27;linear&#x27;))</pre><b>In a Jupyter environment, please rerun this cell to show the HTML representation or trust the notebook. <br />On GitHub, the HTML representation is unable to render, please try loading this page with nbviewer.org.</b></div><div class=\"sk-container\" hidden><div class=\"sk-item sk-dashed-wrapped\"><div class=\"sk-label-container\"><div class=\"sk-label sk-toggleable\"><input class=\"sk-toggleable__control sk-hidden--visually\" id=\"sk-estimator-id-10\" type=\"checkbox\" ><label for=\"sk-estimator-id-10\" class=\"sk-toggleable__label sk-toggleable__label-arrow\">MultiOutputRegressor</label><div class=\"sk-toggleable__content\"><pre>MultiOutputRegressor(estimator=SVC(kernel=&#x27;linear&#x27;))</pre></div></div></div><div class=\"sk-parallel\"><div class=\"sk-parallel-item\"><div class=\"sk-item\"><div class=\"sk-label-container\"><div class=\"sk-label sk-toggleable\"><input class=\"sk-toggleable__control sk-hidden--visually\" id=\"sk-estimator-id-11\" type=\"checkbox\" ><label for=\"sk-estimator-id-11\" class=\"sk-toggleable__label sk-toggleable__label-arrow\">estimator: SVC</label><div class=\"sk-toggleable__content\"><pre>SVC(kernel=&#x27;linear&#x27;)</pre></div></div></div><div class=\"sk-serial\"><div class=\"sk-item\"><div class=\"sk-estimator sk-toggleable\"><input class=\"sk-toggleable__control sk-hidden--visually\" id=\"sk-estimator-id-12\" type=\"checkbox\" ><label for=\"sk-estimator-id-12\" class=\"sk-toggleable__label sk-toggleable__label-arrow\">SVC</label><div class=\"sk-toggleable__content\"><pre>SVC(kernel=&#x27;linear&#x27;)</pre></div></div></div></div></div></div></div></div></div></div>"
            ]
          },
          "metadata": {},
          "execution_count": 34
        }
      ]
    },
    {
      "cell_type": "code",
      "source": [
        "predSVC = modelsvc.predict(x_test)"
      ],
      "metadata": {
        "id": "bf_P9Rm3rGQm"
      },
      "execution_count": 35,
      "outputs": []
    },
    {
      "cell_type": "code",
      "source": [
        "accuracySVC = np.mean(predSVC == y_test)\n",
        "\n",
        "print(accuracySVC)"
      ],
      "metadata": {
        "colab": {
          "base_uri": "https://localhost:8080/"
        },
        "id": "WBtWXGMGrKGP",
        "outputId": "106b5c37-fb5b-4a97-b9c0-c55818a3a5e9"
      },
      "execution_count": 36,
      "outputs": [
        {
          "output_type": "stream",
          "name": "stdout",
          "text": [
            "0.9997588908981314\n"
          ]
        }
      ]
    },
    {
      "cell_type": "code",
      "source": [
        "plt.scatter(x_test[:,-1], y_test[:,-1])"
      ],
      "metadata": {
        "colab": {
          "base_uri": "https://localhost:8080/",
          "height": 448
        },
        "id": "KsBnRDQerNp3",
        "outputId": "cff85000-0485-4dc2-c28c-664155938eff"
      },
      "execution_count": 37,
      "outputs": [
        {
          "output_type": "execute_result",
          "data": {
            "text/plain": [
              "<matplotlib.collections.PathCollection at 0x7f4df6067490>"
            ]
          },
          "metadata": {},
          "execution_count": 37
        },
        {
          "output_type": "display_data",
          "data": {
            "text/plain": [
              "<Figure size 640x480 with 1 Axes>"
            ],
            "image/png": "[encoded data removed]"
          },
          "metadata": {}
        }
      ]
    },
    {
      "cell_type": "markdown",
      "source": [
        "Using 2nd approach - Classification"
      ],
      "metadata": {
        "id": "n8Nc7vM9rVlX"
      }
    },
    {
      "cell_type": "code",
      "source": [
        "modeldata = teen_data[['Q1A','Q6A','Q8A','Q11A','Q12A','Q14A','Q18A','Q22A','Q27A','Q29A','Q32A','Q33A','Q35A','Q39A',\n",
        "\"Q2A\",\"Q4A\",\"Q7A\",\"Q9A\",\"Q15A\",\"Q19A\",\"Q20A\",\"Q23A\",\"Q25A\",\"Q28A\",\"Q30A\",\"Q36A\",\"Q40A\",\"Q41A\",'age',\"Q3A\",\"Q5A\",\"Q10A\",\"Q13A\",\"Q16A\",\"Q17A\",\"Q21A\",\"Q24A\",\"Q26A\",\"Q31A\",\"Q34A\",\"Q37A\",\"Q38A\",\"Q42A\",'Stress','Depression','Anxiety']]\n",
        "\n",
        "\n",
        "len(modeldata.columns)"
      ],
      "metadata": {
        "colab": {
          "base_uri": "https://localhost:8080/"
        },
        "id": "KzE4urY5rR5G",
        "outputId": "69fd69a8-fa8e-483b-e169-7a54100256d4"
      },
      "execution_count": 38,
      "outputs": [
        {
          "output_type": "execute_result",
          "data": {
            "text/plain": [
              "46"
            ]
          },
          "metadata": {},
          "execution_count": 38
        }
      ]
    },
    {
      "cell_type": "code",
      "source": [
        "X = modeldata.iloc[:, :43].values\n",
        "Y = modeldata.iloc[:, 43:].values\n",
        "\n",
        "x_train, x_test, y_train, y_test = train_test_split(X, Y, \n",
        "    test_size=0.2, random_state= 8)"
      ],
      "metadata": {
        "id": "uE3kjxv2rYG1"
      },
      "execution_count": 39,
      "outputs": []
    },
    {
      "cell_type": "code",
      "source": [
        "print(x_train.shape)\n",
        "print(y_train.shape)\n",
        "print(x_test.shape)\n",
        "print(y_test.shape)\n"
      ],
      "metadata": {
        "colab": {
          "base_uri": "https://localhost:8080/"
        },
        "id": "0WZA66LtraSd",
        "outputId": "958a9137-a6cd-4f3c-e6f8-207ff387c37e"
      },
      "execution_count": 40,
      "outputs": [
        {
          "output_type": "stream",
          "name": "stdout",
          "text": [
            "(11060, 43)\n",
            "(11060, 3)\n",
            "(2765, 43)\n",
            "(2765, 3)\n"
          ]
        }
      ]
    },
    {
      "cell_type": "code",
      "source": [
        "X_trainA = x_train[:, 14:29]\n",
        "Y_trainA = y_train[:, -1]\n",
        "\n",
        "X_testA = x_test[:, 14:29]\n",
        "Y_testA = y_test[:, -1]\n",
        "\n",
        "print(X_trainA.shape)\n",
        "print(Y_trainA.shape)\n",
        "print(X_testA.shape)\n",
        "print(Y_testA.shape)"
      ],
      "metadata": {
        "colab": {
          "base_uri": "https://localhost:8080/"
        },
        "id": "yHKQp5dsrcXG",
        "outputId": "4ad64987-bd67-4662-f1dc-9272d3ff0ab9"
      },
      "execution_count": 41,
      "outputs": [
        {
          "output_type": "stream",
          "name": "stdout",
          "text": [
            "(11060, 15)\n",
            "(11060,)\n",
            "(2765, 15)\n",
            "(2765,)\n"
          ]
        }
      ]
    },
    {
      "cell_type": "code",
      "source": [
        "#Implementing Logistic Regression for Anxiety \n",
        "\n",
        "from sklearn.linear_model import LogisticRegression\n",
        "\n",
        "modelA = LogisticRegression(random_state=0, multi_class='multinomial', solver='saga',max_iter=10000).fit(X_trainA, Y_trainA)\n"
      ],
      "metadata": {
        "id": "h4sfQoZFreCN"
      },
      "execution_count": 42,
      "outputs": []
    },
    {
      "cell_type": "code",
      "source": [
        "lrpredA = modelA.predict(X_testA)"
      ],
      "metadata": {
        "id": "S7cZ58QrrnBt"
      },
      "execution_count": 43,
      "outputs": []
    },
    {
      "cell_type": "code",
      "source": [
        "modelA.score(X_trainA, Y_trainA)"
      ],
      "metadata": {
        "colab": {
          "base_uri": "https://localhost:8080/"
        },
        "id": "wdvPM6gqrssV",
        "outputId": "1b035015-05ed-4157-e57b-11f91ec248d9"
      },
      "execution_count": 44,
      "outputs": [
        {
          "output_type": "execute_result",
          "data": {
            "text/plain": [
              "1.0"
            ]
          },
          "metadata": {},
          "execution_count": 44
        }
      ]
    },
    {
      "cell_type": "code",
      "source": [
        "lraccuracyA = np.mean(lrpredA == Y_testA)\n",
        "\n",
        "print(lraccuracyA)"
      ],
      "metadata": {
        "colab": {
          "base_uri": "https://localhost:8080/"
        },
        "id": "Xa-OCUh1ruLV",
        "outputId": "5232a6ea-e04c-4a41-94b9-f10e7b633369"
      },
      "execution_count": 45,
      "outputs": [
        {
          "output_type": "stream",
          "name": "stdout",
          "text": [
            "0.9996383363471971\n"
          ]
        }
      ]
    },
    {
      "cell_type": "code",
      "source": [
        "from sklearn.metrics import classification_report\n",
        "\n",
        "print(classification_report(Y_testA, lrpredA))"
      ],
      "metadata": {
        "colab": {
          "base_uri": "https://localhost:8080/"
        },
        "id": "Z8kl8UQerwMt",
        "outputId": "bdbd3393-46cb-452a-a565-5c97802f54a2"
      },
      "execution_count": 46,
      "outputs": [
        {
          "output_type": "stream",
          "name": "stdout",
          "text": [
            "              precision    recall  f1-score   support\n",
            "\n",
            " Extremely A       1.00      1.00      1.00      1269\n",
            "      Mild A       1.00      0.99      1.00       182\n",
            "  Moderate A       1.00      1.00      1.00       435\n",
            "    Normal A       1.00      1.00      1.00       447\n",
            "    Severe A       1.00      1.00      1.00       432\n",
            "\n",
            "    accuracy                           1.00      2765\n",
            "   macro avg       1.00      1.00      1.00      2765\n",
            "weighted avg       1.00      1.00      1.00      2765\n",
            "\n"
          ]
        }
      ]
    },
    {
      "cell_type": "code",
      "source": [
        "#Implementing Random Forest for Anxiety\n",
        "# Import the model we are using\n",
        "from sklearn.ensemble import RandomForestClassifier"
      ],
      "metadata": {
        "id": "vWAQvhxvryAd"
      },
      "execution_count": 47,
      "outputs": []
    },
    {
      "cell_type": "code",
      "source": [
        "# Instantiate model with 1000 decision trees\n",
        "rf = RandomForestClassifier(n_estimators = 1000, random_state = 42)\n",
        "# Train the model on training data\n",
        "rf = rf.fit(X_trainA, Y_trainA)"
      ],
      "metadata": {
        "id": "CSp_OdsQr0DW"
      },
      "execution_count": 48,
      "outputs": []
    },
    {
      "cell_type": "code",
      "source": [
        "# Use the forest's predict method on the test data\n",
        "rfpredA = rf.predict(X_testA)\n",
        "\n",
        "rfaccuracyA = np.mean(rfpredA == Y_testA)\n",
        "\n",
        "print(rfaccuracyA)"
      ],
      "metadata": {
        "colab": {
          "base_uri": "https://localhost:8080/"
        },
        "id": "KwwgwLd2r2jm",
        "outputId": "3bab6103-880c-4e1b-c3c8-cb60e6cc28aa"
      },
      "execution_count": 49,
      "outputs": [
        {
          "output_type": "stream",
          "name": "stdout",
          "text": [
            "0.874864376130199\n"
          ]
        }
      ]
    },
    {
      "cell_type": "code",
      "source": [
        "from sklearn import metrics\n",
        "\n",
        "print(\"Accuracy score is\", metrics.accuracy_score(Y_testA, rfpredA ))"
      ],
      "metadata": {
        "colab": {
          "base_uri": "https://localhost:8080/"
        },
        "id": "9FmVnJhLr6wO",
        "outputId": "3048947b-8ffd-4311-9115-eae4903e0a71"
      },
      "execution_count": 50,
      "outputs": [
        {
          "output_type": "stream",
          "name": "stdout",
          "text": [
            "Accuracy score is 0.874864376130199\n"
          ]
        }
      ]
    },
    {
      "cell_type": "code",
      "source": [
        "print(classification_report(Y_testA, rfpredA))"
      ],
      "metadata": {
        "colab": {
          "base_uri": "https://localhost:8080/"
        },
        "id": "SgAoSXdNr8sm",
        "outputId": "ea0bf515-abe8-4253-852e-04463d294bde"
      },
      "execution_count": 51,
      "outputs": [
        {
          "output_type": "stream",
          "name": "stdout",
          "text": [
            "              precision    recall  f1-score   support\n",
            "\n",
            " Extremely A       0.96      0.97      0.97      1269\n",
            "      Mild A       0.66      0.23      0.34       182\n",
            "  Moderate A       0.74      0.86      0.79       435\n",
            "    Normal A       0.86      0.98      0.92       447\n",
            "    Severe A       0.82      0.77      0.80       432\n",
            "\n",
            "    accuracy                           0.87      2765\n",
            "   macro avg       0.81      0.76      0.76      2765\n",
            "weighted avg       0.87      0.87      0.86      2765\n",
            "\n"
          ]
        }
      ]
    },
    {
      "cell_type": "code",
      "source": [
        "#Implementing Decision Tree for Anxiety\n",
        "\n",
        "from sklearn.tree import DecisionTreeClassifier\n",
        "from sklearn import tree"
      ],
      "metadata": {
        "id": "pHjGBFrsr-ql"
      },
      "execution_count": 52,
      "outputs": []
    },
    {
      "cell_type": "code",
      "source": [
        "dt = tree.DecisionTreeClassifier()\n",
        "dt = dt.fit(X_trainA, Y_trainA)"
      ],
      "metadata": {
        "id": "aBw_Sc6lsBBO"
      },
      "execution_count": 53,
      "outputs": []
    },
    {
      "cell_type": "code",
      "source": [
        "dtpredA = dt.predict(X_testA)\n",
        "\n",
        "dtaccuracyA = np.mean(dtpredA == Y_testA)\n",
        "\n",
        "print(dtaccuracyA)"
      ],
      "metadata": {
        "colab": {
          "base_uri": "https://localhost:8080/"
        },
        "id": "Qmi8u_IYsCit",
        "outputId": "3b65b054-b617-4dcf-cbff-eb3b69428a31"
      },
      "execution_count": 54,
      "outputs": [
        {
          "output_type": "stream",
          "name": "stdout",
          "text": [
            "0.7471971066907775\n"
          ]
        }
      ]
    },
    {
      "cell_type": "code",
      "source": [
        "print(classification_report(Y_testA, dtpredA))"
      ],
      "metadata": {
        "colab": {
          "base_uri": "https://localhost:8080/"
        },
        "id": "wIH_edC_sED-",
        "outputId": "eaad8c6a-e17d-4607-d1a9-68ef49a717bc"
      },
      "execution_count": 55,
      "outputs": [
        {
          "output_type": "stream",
          "name": "stdout",
          "text": [
            "              precision    recall  f1-score   support\n",
            "\n",
            " Extremely A       0.92      0.89      0.91      1269\n",
            "      Mild A       0.32      0.30      0.31       182\n",
            "  Moderate A       0.58      0.57      0.58       435\n",
            "    Normal A       0.81      0.85      0.83       447\n",
            "    Severe A       0.53      0.57      0.55       432\n",
            "\n",
            "    accuracy                           0.75      2765\n",
            "   macro avg       0.63      0.64      0.63      2765\n",
            "weighted avg       0.75      0.75      0.75      2765\n",
            "\n"
          ]
        }
      ]
    },
    {
      "cell_type": "code",
      "source": [
        "#Implementing Support Vector Machine for Anxiety\n",
        "from sklearn.svm import SVC \n"
      ],
      "metadata": {
        "id": "h8LD4A0TsF4G"
      },
      "execution_count": 56,
      "outputs": []
    },
    {
      "cell_type": "code",
      "source": [
        "svm = SVC(kernel = 'linear')\n",
        "svm = svm.fit(X_trainA, Y_trainA)"
      ],
      "metadata": {
        "id": "PxkzNHeisIF-"
      },
      "execution_count": 57,
      "outputs": []
    },
    {
      "cell_type": "code",
      "source": [
        "svmpredA = svm.predict(X_testA)\n",
        "\n",
        "svmaccuracyA = np.mean(svmpredA == Y_testA)\n",
        "\n",
        "print(svmaccuracyA)"
      ],
      "metadata": {
        "colab": {
          "base_uri": "https://localhost:8080/"
        },
        "id": "7Ig5V7dksJgG",
        "outputId": "e861a31e-c600-4ab2-94f0-4fcbf3d9bf75"
      },
      "execution_count": 58,
      "outputs": [
        {
          "output_type": "stream",
          "name": "stdout",
          "text": [
            "1.0\n"
          ]
        }
      ]
    },
    {
      "cell_type": "code",
      "source": [
        "print(classification_report(Y_testA, svmpredA))\n"
      ],
      "metadata": {
        "colab": {
          "base_uri": "https://localhost:8080/"
        },
        "id": "sf0xW2pQsLVd",
        "outputId": "b2690750-e1b0-4419-a47f-eb02a062a968"
      },
      "execution_count": 59,
      "outputs": [
        {
          "output_type": "stream",
          "name": "stdout",
          "text": [
            "              precision    recall  f1-score   support\n",
            "\n",
            " Extremely A       1.00      1.00      1.00      1269\n",
            "      Mild A       1.00      1.00      1.00       182\n",
            "  Moderate A       1.00      1.00      1.00       435\n",
            "    Normal A       1.00      1.00      1.00       447\n",
            "    Severe A       1.00      1.00      1.00       432\n",
            "\n",
            "    accuracy                           1.00      2765\n",
            "   macro avg       1.00      1.00      1.00      2765\n",
            "weighted avg       1.00      1.00      1.00      2765\n",
            "\n"
          ]
        }
      ]
    },
    {
      "cell_type": "code",
      "source": [
        "#Implementing Naive Bayes for Anxiety\n",
        "from sklearn.naive_bayes import GaussianNB"
      ],
      "metadata": {
        "id": "VWi40_mtsNDd"
      },
      "execution_count": 60,
      "outputs": []
    },
    {
      "cell_type": "code",
      "source": [
        "gnb = GaussianNB()\n",
        "gnb = gnb.fit(X_trainA, Y_trainA)"
      ],
      "metadata": {
        "id": "1jYOVEyksPsG"
      },
      "execution_count": 61,
      "outputs": []
    },
    {
      "cell_type": "code",
      "source": [
        "gnbpredA = gnb.predict(X_testA)\n",
        "\n",
        "gnbaccuracyA = np.mean(gnbpredA == Y_testA)\n",
        "\n",
        "print(gnbaccuracyA)"
      ],
      "metadata": {
        "colab": {
          "base_uri": "https://localhost:8080/"
        },
        "id": "D5l3oJdgsROd",
        "outputId": "71706a57-3409-462f-9823-f82a71bb5db7"
      },
      "execution_count": 62,
      "outputs": [
        {
          "output_type": "stream",
          "name": "stdout",
          "text": [
            "0.8216998191681736\n"
          ]
        }
      ]
    },
    {
      "cell_type": "code",
      "source": [
        "print(classification_report(Y_testA, gnbpredA))"
      ],
      "metadata": {
        "colab": {
          "base_uri": "https://localhost:8080/"
        },
        "id": "lgEZ_F0GsS7G",
        "outputId": "0f9eb1ef-c361-4f6a-d471-c2b1a38cff08"
      },
      "execution_count": 63,
      "outputs": [
        {
          "output_type": "stream",
          "name": "stdout",
          "text": [
            "              precision    recall  f1-score   support\n",
            "\n",
            " Extremely A       1.00      0.86      0.92      1269\n",
            "      Mild A       0.55      0.38      0.45       182\n",
            "  Moderate A       0.70      0.85      0.77       435\n",
            "    Normal A       0.91      0.85      0.88       447\n",
            "    Severe A       0.60      0.84      0.70       432\n",
            "\n",
            "    accuracy                           0.82      2765\n",
            "   macro avg       0.75      0.76      0.74      2765\n",
            "weighted avg       0.85      0.82      0.83      2765\n",
            "\n"
          ]
        }
      ]
    },
    {
      "cell_type": "code",
      "source": [
        "X_trainA.shape"
      ],
      "metadata": {
        "colab": {
          "base_uri": "https://localhost:8080/"
        },
        "id": "Yd1evtT_sUpu",
        "outputId": "fc901ec0-f6e6-4a27-c8ae-6e8d5a846012"
      },
      "execution_count": 64,
      "outputs": [
        {
          "output_type": "execute_result",
          "data": {
            "text/plain": [
              "(11060, 15)"
            ]
          },
          "metadata": {},
          "execution_count": 64
        }
      ]
    },
    {
      "cell_type": "markdown",
      "source": [
        "Pickel for Anxiety"
      ],
      "metadata": {
        "id": "ZHg26vBgCT_Y"
      }
    },
    {
      "cell_type": "code",
      "source": [
        "filename = \"Anxiety_pred_model\"\n",
        "pickle.dump(svm,open(filename,'wb'))"
      ],
      "metadata": {
        "id": "C8Rx9Ra9CTCv"
      },
      "execution_count": 125,
      "outputs": []
    },
    {
      "cell_type": "markdown",
      "source": [
        "Model training for Stress"
      ],
      "metadata": {
        "id": "zXFZl_PlsY9g"
      }
    },
    {
      "cell_type": "code",
      "source": [
        "modeldataS = teen_data[['age','Q1A','Q6A','Q8A','Q11A','Q12A','Q14A','Q18A','Q22A','Q27A','Q29A','Q32A','Q33A','Q35A','Q39A',\n",
        "\"Q2A\",\"Q4A\",\"Q7A\",\"Q9A\",\"Q15A\",\"Q19A\",\"Q20A\",\"Q23A\",\"Q25A\",\"Q28A\",\"Q30A\",\"Q36A\",\"Q40A\",\"Q41A\",\"Q3A\",\"Q5A\",\"Q10A\",\"Q13A\",\"Q16A\",\"Q17A\",\"Q21A\",\"Q24A\",\"Q26A\",\"Q31A\",\"Q34A\",\"Q37A\",\"Q38A\",\"Q42A\",'Stress','Depression','Anxiety']]\n"
      ],
      "metadata": {
        "id": "QdgmqH0hsWcO"
      },
      "execution_count": 66,
      "outputs": []
    },
    {
      "cell_type": "code",
      "source": [
        "X = modeldataS.iloc[:, :43].values\n",
        "Y = modeldataS.iloc[:, 43:].values\n",
        "\n",
        "x_train, x_test, y_train, y_test = train_test_split(X, Y, \n",
        "    test_size=0.2, random_state= 8)"
      ],
      "metadata": {
        "id": "aEIAvL72sfFy"
      },
      "execution_count": 67,
      "outputs": []
    },
    {
      "cell_type": "code",
      "source": [
        "X_trainS = x_train[:, :15]\n",
        "Y_trainS = y_train[:, -3]\n",
        "\n",
        "X_testS = x_test[:, :15]\n",
        "Y_testS = y_test[:, -3]\n",
        "\n",
        "print(X_trainS.shape)\n",
        "print(Y_trainS.shape)\n",
        "print(X_testS.shape)\n",
        "print(Y_testS.shape)"
      ],
      "metadata": {
        "colab": {
          "base_uri": "https://localhost:8080/"
        },
        "id": "7_RsLuopsgum",
        "outputId": "510f1955-8b0d-454d-a012-8ba0f3470a95"
      },
      "execution_count": 68,
      "outputs": [
        {
          "output_type": "stream",
          "name": "stdout",
          "text": [
            "(11060, 15)\n",
            "(11060,)\n",
            "(2765, 15)\n",
            "(2765,)\n"
          ]
        }
      ]
    },
    {
      "cell_type": "code",
      "source": [
        "#Implementing Logistic Regression for Stress\n",
        "\n",
        "modelS = LogisticRegression(random_state=0, multi_class='multinomial', solver='saga',max_iter=10000).fit(X_trainS, Y_trainS)\n"
      ],
      "metadata": {
        "id": "aw08SA9Xsife"
      },
      "execution_count": 69,
      "outputs": []
    },
    {
      "cell_type": "code",
      "source": [
        "lrpredS = modelS.predict(X_testS)"
      ],
      "metadata": {
        "id": "i-3pxGiFsm72"
      },
      "execution_count": 70,
      "outputs": []
    },
    {
      "cell_type": "code",
      "source": [
        "modelS.score(X_trainS, Y_trainS)"
      ],
      "metadata": {
        "colab": {
          "base_uri": "https://localhost:8080/"
        },
        "id": "NKBvtzMRsuGe",
        "outputId": "098d6c16-19eb-4008-b005-ca4fa6acf0ae"
      },
      "execution_count": 71,
      "outputs": [
        {
          "output_type": "execute_result",
          "data": {
            "text/plain": [
              "1.0"
            ]
          },
          "metadata": {},
          "execution_count": 71
        }
      ]
    },
    {
      "cell_type": "code",
      "source": [
        "lraccuracyS = np.mean(lrpredS == Y_testS)\n",
        "\n",
        "print(lraccuracyS)"
      ],
      "metadata": {
        "colab": {
          "base_uri": "https://localhost:8080/"
        },
        "id": "VN5X857EsvsG",
        "outputId": "33b95cb4-5e05-445c-d046-387fc4901768"
      },
      "execution_count": 72,
      "outputs": [
        {
          "output_type": "stream",
          "name": "stdout",
          "text": [
            "1.0\n"
          ]
        }
      ]
    },
    {
      "cell_type": "code",
      "source": [
        "print(classification_report(Y_testS, lrpredS))"
      ],
      "metadata": {
        "colab": {
          "base_uri": "https://localhost:8080/"
        },
        "id": "gltn9aiosxXW",
        "outputId": "2e434e08-2f0b-4a88-c525-786513fd4be8"
      },
      "execution_count": 73,
      "outputs": [
        {
          "output_type": "stream",
          "name": "stdout",
          "text": [
            "              precision    recall  f1-score   support\n",
            "\n",
            " Extremely S       1.00      1.00      1.00       469\n",
            "      Mild S       1.00      1.00      1.00       333\n",
            "  Moderate S       1.00      1.00      1.00       634\n",
            "    Normal S       1.00      1.00      1.00       641\n",
            "    Severe S       1.00      1.00      1.00       688\n",
            "\n",
            "    accuracy                           1.00      2765\n",
            "   macro avg       1.00      1.00      1.00      2765\n",
            "weighted avg       1.00      1.00      1.00      2765\n",
            "\n"
          ]
        }
      ]
    },
    {
      "cell_type": "markdown",
      "source": [
        "Implementing Random Forest for Stress"
      ],
      "metadata": {
        "id": "WIjbjiXbs18t"
      }
    },
    {
      "cell_type": "code",
      "source": [
        "# Instantiate model with 1000 decision trees\n",
        "rf = RandomForestClassifier(n_estimators = 1000, random_state = 42)\n",
        "# Train the model on training data\n",
        "rf = rf.fit(X_trainS, Y_trainS)"
      ],
      "metadata": {
        "id": "aEl9vvvcsyzV"
      },
      "execution_count": 74,
      "outputs": []
    },
    {
      "cell_type": "code",
      "source": [
        "# Use the forest's predict method on the test data\n",
        "rfpredS = rf.predict(X_testS)\n",
        "\n",
        "rfaccuracyS = np.mean(rfpredS == Y_testS)\n",
        "\n",
        "print(rfaccuracyS)"
      ],
      "metadata": {
        "colab": {
          "base_uri": "https://localhost:8080/"
        },
        "id": "9tM-p60Ts6Pl",
        "outputId": "fdc86d0f-dad9-4a52-a570-e823021c21f0"
      },
      "execution_count": 75,
      "outputs": [
        {
          "output_type": "stream",
          "name": "stdout",
          "text": [
            "0.8907775768535262\n"
          ]
        }
      ]
    },
    {
      "cell_type": "code",
      "source": [
        "print(\"Accuracy score is\", metrics.accuracy_score(Y_testS, rfpredS ))"
      ],
      "metadata": {
        "colab": {
          "base_uri": "https://localhost:8080/"
        },
        "id": "9MEuFBwLs_Pl",
        "outputId": "3188a0f3-0088-4c6f-d410-26a530693cbc"
      },
      "execution_count": 76,
      "outputs": [
        {
          "output_type": "stream",
          "name": "stdout",
          "text": [
            "Accuracy score is 0.8907775768535262\n"
          ]
        }
      ]
    },
    {
      "cell_type": "code",
      "source": [
        "print(classification_report(Y_testS, rfpredS))"
      ],
      "metadata": {
        "colab": {
          "base_uri": "https://localhost:8080/"
        },
        "id": "9EjDdWudtCEF",
        "outputId": "ab9c0744-0497-4be5-f096-f8b8682297fc"
      },
      "execution_count": 77,
      "outputs": [
        {
          "output_type": "stream",
          "name": "stdout",
          "text": [
            "              precision    recall  f1-score   support\n",
            "\n",
            " Extremely S       0.97      0.90      0.94       469\n",
            "      Mild S       0.83      0.61      0.70       333\n",
            "  Moderate S       0.82      0.91      0.86       634\n",
            "    Normal S       0.94      0.97      0.95       641\n",
            "    Severe S       0.89      0.92      0.91       688\n",
            "\n",
            "    accuracy                           0.89      2765\n",
            "   macro avg       0.89      0.86      0.87      2765\n",
            "weighted avg       0.89      0.89      0.89      2765\n",
            "\n"
          ]
        }
      ]
    },
    {
      "cell_type": "code",
      "source": [
        "#Implementing Decision Tree for Stress\n",
        "dt = tree.DecisionTreeClassifier()\n",
        "dt = dt.fit(X_trainS, Y_trainS)"
      ],
      "metadata": {
        "id": "w4a_zEtDtDst"
      },
      "execution_count": 78,
      "outputs": []
    },
    {
      "cell_type": "code",
      "source": [
        "dtpredS = dt.predict(X_testS)\n",
        "\n",
        "dtaccuracyS = np.mean(dtpredS == Y_testS)\n",
        "\n",
        "print(dtaccuracyS)"
      ],
      "metadata": {
        "colab": {
          "base_uri": "https://localhost:8080/"
        },
        "id": "M9AYqfnttHof",
        "outputId": "81e912af-d390-4d17-e099-1c482f954f3b"
      },
      "execution_count": 79,
      "outputs": [
        {
          "output_type": "stream",
          "name": "stdout",
          "text": [
            "0.7247739602169981\n"
          ]
        }
      ]
    },
    {
      "cell_type": "code",
      "source": [
        "print(classification_report(Y_testS, dtpredS))"
      ],
      "metadata": {
        "colab": {
          "base_uri": "https://localhost:8080/"
        },
        "id": "d-GbCvxetJq2",
        "outputId": "0f5f76ab-0651-4186-a342-801e0ae869f4"
      },
      "execution_count": 80,
      "outputs": [
        {
          "output_type": "stream",
          "name": "stdout",
          "text": [
            "              precision    recall  f1-score   support\n",
            "\n",
            " Extremely S       0.87      0.84      0.85       469\n",
            "      Mild S       0.45      0.47      0.46       333\n",
            "  Moderate S       0.64      0.63      0.63       634\n",
            "    Normal S       0.86      0.84      0.85       641\n",
            "    Severe S       0.72      0.75      0.74       688\n",
            "\n",
            "    accuracy                           0.72      2765\n",
            "   macro avg       0.71      0.71      0.71      2765\n",
            "weighted avg       0.73      0.72      0.73      2765\n",
            "\n"
          ]
        }
      ]
    },
    {
      "cell_type": "code",
      "source": [
        "#Implementing SVM for Stress\n",
        "svm = SVC(kernel = 'linear')\n",
        "svm = svm.fit(X_trainS, Y_trainS)"
      ],
      "metadata": {
        "id": "fulWSQhQtLWG"
      },
      "execution_count": 81,
      "outputs": []
    },
    {
      "cell_type": "code",
      "source": [
        "svmpredS = svm.predict(X_testS)\n",
        "\n",
        "svmaccuracyS = np.mean(svmpredS == Y_testS)\n",
        "\n",
        "print(svmaccuracyS)"
      ],
      "metadata": {
        "colab": {
          "base_uri": "https://localhost:8080/"
        },
        "id": "14gLC0H7tTG-",
        "outputId": "32dc96aa-4691-4d73-ed3b-71a4e2e3181d"
      },
      "execution_count": 82,
      "outputs": [
        {
          "output_type": "stream",
          "name": "stdout",
          "text": [
            "1.0\n"
          ]
        }
      ]
    },
    {
      "cell_type": "code",
      "source": [
        "print(classification_report(Y_testS, svmpredS))"
      ],
      "metadata": {
        "colab": {
          "base_uri": "https://localhost:8080/"
        },
        "id": "uMQq_-EntU02",
        "outputId": "38672957-4038-4d08-8557-989abebdcf5e"
      },
      "execution_count": 83,
      "outputs": [
        {
          "output_type": "stream",
          "name": "stdout",
          "text": [
            "              precision    recall  f1-score   support\n",
            "\n",
            " Extremely S       1.00      1.00      1.00       469\n",
            "      Mild S       1.00      1.00      1.00       333\n",
            "  Moderate S       1.00      1.00      1.00       634\n",
            "    Normal S       1.00      1.00      1.00       641\n",
            "    Severe S       1.00      1.00      1.00       688\n",
            "\n",
            "    accuracy                           1.00      2765\n",
            "   macro avg       1.00      1.00      1.00      2765\n",
            "weighted avg       1.00      1.00      1.00      2765\n",
            "\n"
          ]
        }
      ]
    },
    {
      "cell_type": "code",
      "source": [
        "#Implementing Naive Bayes for Stress\n",
        "gnb = GaussianNB()\n",
        "gnb = gnb.fit(X_trainS, Y_trainS)"
      ],
      "metadata": {
        "id": "SjwVArdmtWlN"
      },
      "execution_count": 84,
      "outputs": []
    },
    {
      "cell_type": "code",
      "source": [
        "gnbpredS = gnb.predict(X_testS)\n",
        "\n",
        "gnbaccuracyS = np.mean(gnbpredS == Y_testS)\n",
        "\n",
        "print(gnbaccuracyS)"
      ],
      "metadata": {
        "colab": {
          "base_uri": "https://localhost:8080/"
        },
        "id": "Pz8pr8V7tYnN",
        "outputId": "ed2852ee-dd54-41c8-bbe8-8851009b695d"
      },
      "execution_count": 85,
      "outputs": [
        {
          "output_type": "stream",
          "name": "stdout",
          "text": [
            "0.8896925858951176\n"
          ]
        }
      ]
    },
    {
      "cell_type": "code",
      "source": [
        "X_trainS.shape"
      ],
      "metadata": {
        "colab": {
          "base_uri": "https://localhost:8080/"
        },
        "id": "cQJfBhG4ta2G",
        "outputId": "56305658-b5c4-4b5a-d48f-b03823121b88"
      },
      "execution_count": 86,
      "outputs": [
        {
          "output_type": "execute_result",
          "data": {
            "text/plain": [
              "(11060, 15)"
            ]
          },
          "metadata": {},
          "execution_count": 86
        }
      ]
    },
    {
      "cell_type": "code",
      "source": [
        "print(classification_report(Y_testS, gnbpredS))\n"
      ],
      "metadata": {
        "colab": {
          "base_uri": "https://localhost:8080/"
        },
        "id": "zcd8XmwFtcXG",
        "outputId": "11ab19e7-bd7e-42c8-8afa-d154116d4221"
      },
      "execution_count": 87,
      "outputs": [
        {
          "output_type": "stream",
          "name": "stdout",
          "text": [
            "              precision    recall  f1-score   support\n",
            "\n",
            " Extremely S       0.96      0.85      0.90       469\n",
            "      Mild S       0.73      0.84      0.78       333\n",
            "  Moderate S       0.86      0.94      0.90       634\n",
            "    Normal S       1.00      0.87      0.93       641\n",
            "    Severe S       0.88      0.92      0.89       688\n",
            "\n",
            "    accuracy                           0.89      2765\n",
            "   macro avg       0.89      0.88      0.88      2765\n",
            "weighted avg       0.90      0.89      0.89      2765\n",
            "\n"
          ]
        }
      ]
    },
    {
      "cell_type": "markdown",
      "source": [
        "Pickel for Stress"
      ],
      "metadata": {
        "id": "f1JTi97JC1_Q"
      }
    },
    {
      "cell_type": "code",
      "source": [
        "filename = \"Stress_pred_model\"\n",
        "pickle.dump(modelS,open(filename,'wb'))"
      ],
      "metadata": {
        "id": "V3G_POMfC6vi"
      },
      "execution_count": 124,
      "outputs": []
    },
    {
      "cell_type": "markdown",
      "source": [
        "Model for Depression"
      ],
      "metadata": {
        "id": "w8cKdZRStg6V"
      }
    },
    {
      "cell_type": "code",
      "source": [
        "modeldataD = teen_data[['Q1A','Q6A','Q8A','Q11A','Q12A','Q14A','Q18A','Q22A','Q27A','Q29A','Q32A','Q33A','Q35A','Q39A',\n",
        "\"Q2A\",\"Q4A\",\"Q7A\",\"Q9A\",\"Q15A\",\"Q19A\",\"Q20A\",\"Q23A\",\"Q25A\",\"Q28A\",\"Q30A\",\"Q36A\",\"Q40A\",\"Q41A\",\"Q3A\",\"Q5A\",\"Q10A\",\"Q13A\",\"Q16A\",\"Q17A\",\"Q21A\",\"Q24A\",\"Q26A\",\"Q31A\",\"Q34A\",\"Q37A\",\"Q38A\",\"Q42A\",'age','Stress','Depression','Anxiety']]\n"
      ],
      "metadata": {
        "id": "GbsK17Evteqn"
      },
      "execution_count": 89,
      "outputs": []
    },
    {
      "cell_type": "code",
      "source": [
        "X = modeldataD.iloc[:, :43].values\n",
        "Y = modeldataD.iloc[:, 43:].values\n",
        "\n",
        "x_train, x_test, y_train, y_test = train_test_split(X, Y, \n",
        "    test_size=0.2, random_state= 8)"
      ],
      "metadata": {
        "id": "FSrSI2AatmwG"
      },
      "execution_count": 90,
      "outputs": []
    },
    {
      "cell_type": "code",
      "source": [
        "X_trainD = x_train[:, 28:43]\n",
        "Y_trainD = y_train[:, -2]\n",
        "\n",
        "X_testD = x_test[:, 28:43]\n",
        "Y_testD = y_test[:, -2]\n",
        "\n",
        "print(X_trainD.shape)\n",
        "print(Y_trainD.shape)\n",
        "print(X_testD.shape)\n",
        "print(Y_testD.shape)"
      ],
      "metadata": {
        "colab": {
          "base_uri": "https://localhost:8080/"
        },
        "id": "sj-l_P2stoJG",
        "outputId": "ec25a636-f4b1-4007-82cc-30376e8ba998"
      },
      "execution_count": 91,
      "outputs": [
        {
          "output_type": "stream",
          "name": "stdout",
          "text": [
            "(11060, 15)\n",
            "(11060,)\n",
            "(2765, 15)\n",
            "(2765,)\n"
          ]
        }
      ]
    },
    {
      "cell_type": "code",
      "source": [
        "#Implementing Logistic Regression for Depression\n",
        "\n",
        "modelD = LogisticRegression(random_state=0, multi_class='multinomial', solver='saga',max_iter=10000).fit(X_trainD, Y_trainD)\n"
      ],
      "metadata": {
        "id": "36R3cbdFtpoG"
      },
      "execution_count": 92,
      "outputs": []
    },
    {
      "cell_type": "code",
      "source": [
        "lrpredD = modelD.predict(X_testD)"
      ],
      "metadata": {
        "id": "KlUDWDYLtszW"
      },
      "execution_count": 93,
      "outputs": []
    },
    {
      "cell_type": "code",
      "source": [
        "modelD.score(X_trainD, Y_trainD)"
      ],
      "metadata": {
        "colab": {
          "base_uri": "https://localhost:8080/"
        },
        "id": "oJ1FZEQQt0Ce",
        "outputId": "dae1f9c0-02a5-4ccd-8b8c-42c5f7989012"
      },
      "execution_count": 94,
      "outputs": [
        {
          "output_type": "execute_result",
          "data": {
            "text/plain": [
              "0.9972875226039783"
            ]
          },
          "metadata": {},
          "execution_count": 94
        }
      ]
    },
    {
      "cell_type": "code",
      "source": [
        "lraccuracyD = np.mean(lrpredD == Y_testD)\n",
        "\n",
        "print(lraccuracyD)"
      ],
      "metadata": {
        "colab": {
          "base_uri": "https://localhost:8080/"
        },
        "id": "TaoOf9PIt1e-",
        "outputId": "1571b110-a07d-4ec5-c60e-e64f4bdfe90e"
      },
      "execution_count": 95,
      "outputs": [
        {
          "output_type": "stream",
          "name": "stdout",
          "text": [
            "0.9960216998191682\n"
          ]
        }
      ]
    },
    {
      "cell_type": "code",
      "source": [
        "print(classification_report(Y_testD, lrpredD))"
      ],
      "metadata": {
        "colab": {
          "base_uri": "https://localhost:8080/"
        },
        "id": "8XtxccmXt3a1",
        "outputId": "1acb0c52-f9a0-42d1-8ac8-05cab5a97869"
      },
      "execution_count": 96,
      "outputs": [
        {
          "output_type": "stream",
          "name": "stdout",
          "text": [
            "              precision    recall  f1-score   support\n",
            "\n",
            " Extremely D       1.00      1.00      1.00      1649\n",
            "      Mild D       1.00      1.00      1.00       232\n",
            "  Moderate D       1.00      0.84      0.91        69\n",
            "    Normal D       1.00      1.00      1.00       475\n",
            "    Severe D       0.97      1.00      0.99       340\n",
            "\n",
            "    accuracy                           1.00      2765\n",
            "   macro avg       0.99      0.97      0.98      2765\n",
            "weighted avg       1.00      1.00      1.00      2765\n",
            "\n"
          ]
        }
      ]
    },
    {
      "cell_type": "code",
      "source": [
        "#Implementing Random Forest for Depression\n",
        "# Instantiate model with 1000 decision trees\n",
        "rf = RandomForestClassifier(n_estimators = 1000, random_state = 42)\n",
        "# Train the model on training data\n",
        "rf = rf.fit(X_trainD, Y_trainD)"
      ],
      "metadata": {
        "id": "MQ_qmkw8t5Hm"
      },
      "execution_count": 97,
      "outputs": []
    },
    {
      "cell_type": "code",
      "source": [
        "# Use the forest's predict method on the test data\n",
        "rfpredD = rf.predict(X_testD)\n",
        "\n",
        "rfaccuracyD = np.mean(rfpredD == Y_testD)\n",
        "\n",
        "print(rfaccuracyD)"
      ],
      "metadata": {
        "colab": {
          "base_uri": "https://localhost:8080/"
        },
        "id": "zaBWHKhlt76u",
        "outputId": "a7ec31e8-03b2-4ad3-acc4-cdda17cf7ed4"
      },
      "execution_count": 98,
      "outputs": [
        {
          "output_type": "stream",
          "name": "stdout",
          "text": [
            "0.9265822784810127\n"
          ]
        }
      ]
    },
    {
      "cell_type": "code",
      "source": [
        "print(\"Accuracy score is\", metrics.accuracy_score(Y_testD, rfpredD ))"
      ],
      "metadata": {
        "colab": {
          "base_uri": "https://localhost:8080/"
        },
        "id": "JfWVzanlt_yt",
        "outputId": "c8590cec-1197-4a91-8c7c-4d1a44a8f7d0"
      },
      "execution_count": 99,
      "outputs": [
        {
          "output_type": "stream",
          "name": "stdout",
          "text": [
            "Accuracy score is 0.9265822784810127\n"
          ]
        }
      ]
    },
    {
      "cell_type": "code",
      "source": [
        "print(classification_report(Y_testD, rfpredD))"
      ],
      "metadata": {
        "colab": {
          "base_uri": "https://localhost:8080/"
        },
        "id": "lUgIWDY9uBl1",
        "outputId": "3b4c6115-4c44-415d-e4de-538d07c73314"
      },
      "execution_count": 100,
      "outputs": [
        {
          "output_type": "stream",
          "name": "stdout",
          "text": [
            "              precision    recall  f1-score   support\n",
            "\n",
            " Extremely D       0.98      0.99      0.98      1649\n",
            "      Mild D       0.79      0.73      0.76       232\n",
            "  Moderate D       0.44      0.06      0.10        69\n",
            "    Normal D       0.92      0.98      0.95       475\n",
            "    Severe D       0.80      0.86      0.83       340\n",
            "\n",
            "    accuracy                           0.93      2765\n",
            "   macro avg       0.79      0.72      0.72      2765\n",
            "weighted avg       0.92      0.93      0.92      2765\n",
            "\n"
          ]
        }
      ]
    },
    {
      "cell_type": "code",
      "source": [
        "#Implementing Decision Tree for Depression\n",
        "dt = tree.DecisionTreeClassifier()\n",
        "dt = dt.fit(X_trainD, Y_trainD)"
      ],
      "metadata": {
        "id": "WR8NZdq5uDMO"
      },
      "execution_count": 101,
      "outputs": []
    },
    {
      "cell_type": "code",
      "source": [
        "dtpredD = dt.predict(X_testD)\n",
        "\n",
        "dtaccuracyD = np.mean(dtpredD == Y_testD)\n",
        "\n",
        "print(dtaccuracyD)"
      ],
      "metadata": {
        "colab": {
          "base_uri": "https://localhost:8080/"
        },
        "id": "EP8tuTzfuFcd",
        "outputId": "9d74146f-3d42-4230-896f-9a56325ed251"
      },
      "execution_count": 102,
      "outputs": [
        {
          "output_type": "stream",
          "name": "stdout",
          "text": [
            "0.844122965641953\n"
          ]
        }
      ]
    },
    {
      "cell_type": "code",
      "source": [
        "print(classification_report(Y_testD, dtpredD))"
      ],
      "metadata": {
        "colab": {
          "base_uri": "https://localhost:8080/"
        },
        "id": "04qSIVMkuHV1",
        "outputId": "e2cfcd11-a670-4c4c-c5c8-e1f6e2f71941"
      },
      "execution_count": 103,
      "outputs": [
        {
          "output_type": "stream",
          "name": "stdout",
          "text": [
            "              precision    recall  f1-score   support\n",
            "\n",
            " Extremely D       0.95      0.95      0.95      1649\n",
            "      Mild D       0.55      0.48      0.51       232\n",
            "  Moderate D       0.16      0.19      0.17        69\n",
            "    Normal D       0.89      0.91      0.90       475\n",
            "    Severe D       0.61      0.64      0.62       340\n",
            "\n",
            "    accuracy                           0.84      2765\n",
            "   macro avg       0.63      0.63      0.63      2765\n",
            "weighted avg       0.85      0.84      0.84      2765\n",
            "\n"
          ]
        }
      ]
    },
    {
      "cell_type": "code",
      "source": [
        "#Implementing the SVM model for Depression\n",
        "svm = SVC(kernel = 'linear')\n",
        "svm = svm.fit(X_trainD, Y_trainD)"
      ],
      "metadata": {
        "id": "9QYfzyDHuJE2"
      },
      "execution_count": 104,
      "outputs": []
    },
    {
      "cell_type": "code",
      "source": [
        "svmpredD = svm.predict(X_testD)\n",
        "\n",
        "svmaccuracyD = np.mean(svmpredD == Y_testD)\n",
        "\n",
        "print(svmaccuracyD)"
      ],
      "metadata": {
        "colab": {
          "base_uri": "https://localhost:8080/"
        },
        "id": "VdL_cTiOuLGN",
        "outputId": "ec719bc5-17bd-473a-e94e-bcdfd25c6e44"
      },
      "execution_count": 105,
      "outputs": [
        {
          "output_type": "stream",
          "name": "stdout",
          "text": [
            "1.0\n"
          ]
        }
      ]
    },
    {
      "cell_type": "code",
      "source": [
        "print(classification_report(Y_testD, svmpredD))"
      ],
      "metadata": {
        "colab": {
          "base_uri": "https://localhost:8080/"
        },
        "id": "CSipwnVKuMp1",
        "outputId": "97408f47-966b-49ec-d7fb-f57a446628e1"
      },
      "execution_count": 106,
      "outputs": [
        {
          "output_type": "stream",
          "name": "stdout",
          "text": [
            "              precision    recall  f1-score   support\n",
            "\n",
            " Extremely D       1.00      1.00      1.00      1649\n",
            "      Mild D       1.00      1.00      1.00       232\n",
            "  Moderate D       1.00      1.00      1.00        69\n",
            "    Normal D       1.00      1.00      1.00       475\n",
            "    Severe D       1.00      1.00      1.00       340\n",
            "\n",
            "    accuracy                           1.00      2765\n",
            "   macro avg       1.00      1.00      1.00      2765\n",
            "weighted avg       1.00      1.00      1.00      2765\n",
            "\n"
          ]
        }
      ]
    },
    {
      "cell_type": "code",
      "source": [
        "#Implementing Naive Bayes for Depression\n",
        "gnb = GaussianNB()\n",
        "gnb = gnb.fit(X_trainD, Y_trainD)"
      ],
      "metadata": {
        "id": "G05P0CxpuONN"
      },
      "execution_count": 107,
      "outputs": []
    },
    {
      "cell_type": "code",
      "source": [
        "gnbpredD = gnb.predict(X_testD)\n",
        "\n",
        "gnbaccuracyD = np.mean(gnbpredD == Y_testD)\n",
        "\n",
        "print(gnbaccuracyD)"
      ],
      "metadata": {
        "colab": {
          "base_uri": "https://localhost:8080/"
        },
        "id": "hOUMPvZduTVG",
        "outputId": "22df5f76-aa12-49be-e0f4-99209cc64c3f"
      },
      "execution_count": 108,
      "outputs": [
        {
          "output_type": "stream",
          "name": "stdout",
          "text": [
            "0.8546112115732369\n"
          ]
        }
      ]
    },
    {
      "cell_type": "code",
      "source": [
        "print(classification_report(Y_testD, gnbpredD))"
      ],
      "metadata": {
        "colab": {
          "base_uri": "https://localhost:8080/"
        },
        "id": "CeSNluKsuVJl",
        "outputId": "f7bd2ded-7538-46f7-c960-147ed8f2a9ab"
      },
      "execution_count": 109,
      "outputs": [
        {
          "output_type": "stream",
          "name": "stdout",
          "text": [
            "              precision    recall  f1-score   support\n",
            "\n",
            " Extremely D       1.00      0.86      0.93      1649\n",
            "      Mild D       0.65      0.87      0.74       232\n",
            "  Moderate D       0.00      0.00      0.00        69\n",
            "    Normal D       1.00      0.86      0.93       475\n",
            "    Severe D       0.53      0.97      0.69       340\n",
            "\n",
            "    accuracy                           0.85      2765\n",
            "   macro avg       0.64      0.71      0.66      2765\n",
            "weighted avg       0.89      0.85      0.86      2765\n",
            "\n"
          ]
        }
      ]
    },
    {
      "cell_type": "markdown",
      "source": [
        "Pickel for Depression"
      ],
      "metadata": {
        "id": "rpeT9ILgxRtd"
      }
    },
    {
      "cell_type": "code",
      "source": [
        "filename = \"Depression_pred_model\"\n",
        "pickle.dump(svm,open(filename,'wb'))"
      ],
      "metadata": {
        "id": "HhNb0ok_1A66"
      },
      "execution_count": 123,
      "outputs": []
    },
    {
      "cell_type": "markdown",
      "source": [
        "Using the Pickel File\n",
        "  "
      ],
      "metadata": {
        "id": "krqekckOZbYX"
      }
    },
    {
      "cell_type": "code",
      "source": [
        "loaded_Depression_model = pickle.load(open(\"Depression_pred_model\" , \"rb\"))\n",
        "loaded_Anxiety_model = pickle.load(open(\"Anxiety_pred_model\" , \"rb\"))\n",
        "loaded_Stress_model = pickle.load(open(\"Stress_pred_model\" , \"rb\"))\n",
        "\n",
        "input_data = [ 1  ,0  ,1  ,2  ,0  ,2  ,1  ,0  ,1  ,1  ,2  ,1  ,2  ,0 ,16]\n",
        "\n",
        "pred_Depression_result = loaded_Depression_model.predict([input_data])\n",
        "pred_Anxiety_result = loaded_Anxiety_model.predict([input_data])\n",
        "pred_Stress_result = loaded_Stress_model.predict([input_data])\n",
        "\n",
        "# pred_Anxiety_result = loaded_Depression_model.predict([[ 0 , 0 , 0 ,  1 , 0 , 1 , 2 , 0 , 1 , 0 , 3 , 0 , 1 , 1 ,15 ]])\n",
        "# pred_Stress_result = loaded_Depression_model.predict([[ 0 , 0 , 0 ,  1 , 0 , 1 , 2 , 0 , 1 , 0 , 3 , 0 , 1 , 1 ,15 ]])\n",
        "\n",
        "print(\"The Respective Depression , Anxiety  and Stress Level's are :\")\n",
        "print(pred_Depression_result )\n",
        "print(pred_Anxiety_result)\n",
        "print(pred_Stress_result)\n"
      ],
      "metadata": {
        "colab": {
          "base_uri": "https://localhost:8080/"
        },
        "id": "kUxhe8Ovei7G",
        "outputId": "6715ee3f-c863-4c69-c5d9-04b77e255dec"
      },
      "execution_count": 132,
      "outputs": [
        {
          "output_type": "stream",
          "name": "stdout",
          "text": [
            "The Respective Depression , Anxiety  and Stress Level's are :\n",
            "['Moderate D']\n",
            "['Moderate A']\n",
            "['Severe S']\n"
          ]
        }
      ]
    }
  ]
}